{
 "cells": [
  {
   "attachments": {},
   "cell_type": "markdown",
   "metadata": {},
   "source": [
    "# train many supervised models to select\n",
    "29 features with balanced class ClinVar data"
   ]
  },
  {
   "attachments": {},
   "cell_type": "markdown",
   "metadata": {},
   "source": [
    "# train models"
   ]
  },
  {
   "cell_type": "code",
   "execution_count": 1,
   "metadata": {},
   "outputs": [],
   "source": [
    "import pandas as pd\n",
    "import numpy as np\n",
    "import matplotlib.pyplot as plt"
   ]
  },
  {
   "cell_type": "code",
   "execution_count": 2,
   "metadata": {},
   "outputs": [],
   "source": [
    "#df_3=pd.read_csv('/Users/nancy/Desktop/RS_projects/data/03_ML/01_train_model/01_featureV1/zelse/01_preprocessed_data_M0.csv')\n",
    "df_3=pd.read_csv('../../../../../data/03_ML/01_train_model/01_featureV1/zelse/01_preprocessed_data_M0.csv')"
   ]
  },
  {
   "attachments": {},
   "cell_type": "markdown",
   "metadata": {},
   "source": []
  },
  {
   "attachments": {},
   "cell_type": "markdown",
   "metadata": {},
   "source": [
    "## split test/train"
   ]
  },
  {
   "cell_type": "code",
   "execution_count": 3,
   "metadata": {},
   "outputs": [],
   "source": [
    "## balance benign and pathogenic quantity\n",
    "\n",
    "benign = df_3[df_3[\"CLNSIG\"]==0]\n",
    "pathogenic = df_3[df_3[\"CLNSIG\"]==1]\n",
    "benign = benign.sample(len(pathogenic),random_state=42)   # randomly extract benign same quantity with patho\n",
    "data = pd.concat( (benign,pathogenic),axis=0,\n",
    "    join=\"outer\",\n",
    "    ignore_index=False,\n",
    "    keys=None,\n",
    "    levels=None,\n",
    "    names=None,\n",
    "    verify_integrity=False,\n",
    "    copy=True)"
   ]
  },
  {
   "cell_type": "code",
   "execution_count": 4,
   "metadata": {},
   "outputs": [
    {
     "data": {
      "text/plain": [
       "Index(['Consequence', 'IMPACT', 'BIOTYPE', 'SIFT', 'PolyPhen', 'SPIDEX_NAN',\n",
       "       'SIFT_NAN', 'PolyPhen_NAN', 'REVEL_score_NAN',\n",
       "       'SpliceAI_pred_DS_AG_NAN', 'ORIGIN_0', 'ORIGIN_1', 'ORIGIN_2',\n",
       "       'ORIGIN_3', 'ORIGIN_4', 'ORIGIN_5', 'CADD', 'AF_TGP', 'Frq',\n",
       "       'GNOMADAF_popmax', 'Hom', 'SPIDEX', 'SWEGENAF', 'MES-SWA_acceptor_alt',\n",
       "       'MES-SWA_acceptor_diff', 'MES-SWA_donor_alt', 'MES-SWA_donor_diff',\n",
       "       'MaxEntScan_alt', 'MaxEntScan_diff', 'GERP++_RS', 'REVEL_score',\n",
       "       'phastCons100way_vertebrate', 'phyloP100way_vertebrate', 'LoFtool',\n",
       "       'pLI_gene_value', 'SpliceAI_pred_DS_AG', 'SpliceAI_pred_DS_AL',\n",
       "       'SpliceAI_pred_DS_DG', 'SpliceAI_pred_DS_DL'],\n",
       "      dtype='object')"
      ]
     },
     "execution_count": 4,
     "metadata": {},
     "output_type": "execute_result"
    }
   ],
   "source": [
    "data.columns[1:]"
   ]
  },
  {
   "cell_type": "code",
   "execution_count": 5,
   "metadata": {},
   "outputs": [
    {
     "name": "stderr",
     "output_type": "stream",
     "text": [
      "/Users/nancy/miniconda3/envs/bioinfo/lib/python3.10/site-packages/scipy/__init__.py:146: UserWarning: A NumPy version >=1.16.5 and <1.23.0 is required for this version of SciPy (detected version 1.23.5\n",
      "  warnings.warn(f\"A NumPy version >={np_minversion} and <{np_maxversion}\"\n"
     ]
    }
   ],
   "source": [
    "from sklearn.model_selection import train_test_split\n",
    "X, y = data.iloc[:, 1:].values, data.iloc[:, 0].values\n",
    "\n",
    "X_train, X_test, y_train, y_test =\\\n",
    "    train_test_split(X, y, \n",
    "                    test_size=0.3,\n",
    "                    random_state=42,\n",
    "                    stratify=y)"
   ]
  },
  {
   "cell_type": "code",
   "execution_count": 6,
   "metadata": {},
   "outputs": [
    {
     "data": {
      "text/plain": [
       "(251010, 39)"
      ]
     },
     "execution_count": 6,
     "metadata": {},
     "output_type": "execute_result"
    }
   ],
   "source": [
    "X_train.shape"
   ]
  },
  {
   "cell_type": "markdown",
   "metadata": {},
   "source": []
  },
  {
   "attachments": {},
   "cell_type": "markdown",
   "metadata": {},
   "source": [
    "##  train models"
   ]
  },
  {
   "cell_type": "code",
   "execution_count": 7,
   "metadata": {},
   "outputs": [],
   "source": [
    "import mglearn   # lizard book's library for plots    # pip install mglearn"
   ]
  },
  {
   "cell_type": "code",
   "execution_count": 8,
   "metadata": {},
   "outputs": [],
   "source": [
    "from sklearn.metrics import roc_curve\n",
    "import matplotlib.pyplot as plt"
   ]
  },
  {
   "attachments": {},
   "cell_type": "markdown",
   "metadata": {},
   "source": []
  },
  {
   "attachments": {},
   "cell_type": "markdown",
   "metadata": {},
   "source": [
    "#### 1. k-Nearest Neighbors\n",
    "classifier   k-NN\n",
    "slower, 16mins ! bad for much 0, much features"
   ]
  },
  {
   "cell_type": "code",
   "execution_count": null,
   "metadata": {},
   "outputs": [],
   "source": [
    "from sklearn.neighbors import KNeighborsClassifier\n",
    "\n",
    "\n",
    "clf = KNeighborsClassifier(n_neighbors=3) \n",
    "clf.fit(X_train, y_train)\n",
    "# predictions = clf.predict(X_test)\n",
    "# record training set accuracy\n",
    "print(\"Training set score: {:.4f}\".format(clf.score(X_train, y_train))) \n",
    "print(\"Test set score: {:.4f}\".format(clf.score(X_test, y_test)))"
   ]
  },
  {
   "cell_type": "code",
   "execution_count": 11,
   "metadata": {},
   "outputs": [],
   "source": [
    "## saved model, now load\n",
    "import joblib\n",
    "\n",
    "clf = joblib.load('../../../../../result/03_ML/01_train_model/01_featureV1/zelse/models/KNN_featsV1_model.sav')\n",
    "\n",
    "# test = joblib.load('KNN_featsV1_model.sav')    # load back\n",
    "# test.score(X_test, y_test)"
   ]
  },
  {
   "attachments": {},
   "cell_type": "markdown",
   "metadata": {},
   "source": [
    "for ROC curve"
   ]
  },
  {
   "cell_type": "code",
   "execution_count": 12,
   "metadata": {},
   "outputs": [],
   "source": [
    "prob1 = clf.predict_proba(X_test)\n",
    "prob1 = prob1[:,1]     # choose the 2nd column --class 1 pathogenic\n",
    "fprKn, tprKn, thresholdsKn = roc_curve(y_test, prob1)"
   ]
  },
  {
   "attachments": {},
   "cell_type": "markdown",
   "metadata": {},
   "source": []
  },
  {
   "attachments": {},
   "cell_type": "markdown",
   "metadata": {},
   "source": [
    "#### 2. linear regression \n",
    "Ridge regression alternatives to standard "
   ]
  },
  {
   "cell_type": "code",
   "execution_count": 15,
   "metadata": {},
   "outputs": [
    {
     "name": "stdout",
     "output_type": "stream",
     "text": [
      "Training set score: 0.86282\n",
      "Test set score: 0.86495\n"
     ]
    },
    {
     "data": {
      "text/plain": [
       "['/Users/nancy/Desktop/RS_projects/result/03_ML/01_train_model/01_featureV1/zelse/models/LinerR_featsV1_model.sav']"
      ]
     },
     "execution_count": 15,
     "metadata": {},
     "output_type": "execute_result"
    }
   ],
   "source": [
    "# # linear regression   no parameter can adjust\n",
    "from sklearn.linear_model import LinearRegression\n",
    "lr = LinearRegression().fit(X_train, y_train)\n",
    "print(\"Training set score: {:.5f}\".format(lr.score(X_train, y_train))) \n",
    "print(\"Test set score: {:.5f}\".format(lr.score(X_test, y_test)))\n",
    "\n",
    "# save model\n",
    "#joblib.dump(lr,'/Users/nancy/Desktop/RS_projects/result/03_ML/01_train_model/01_featureV1/zelse/models/LinerR_featsV1_model.sav')"
   ]
  },
  {
   "cell_type": "code",
   "execution_count": 16,
   "metadata": {},
   "outputs": [
    {
     "ename": "AttributeError",
     "evalue": "'LinearRegression' object has no attribute 'predict_proba'",
     "output_type": "error",
     "traceback": [
      "\u001b[0;31m---------------------------------------------------------------------------\u001b[0m",
      "\u001b[0;31mAttributeError\u001b[0m                            Traceback (most recent call last)",
      "Cell \u001b[0;32mIn[16], line 2\u001b[0m\n\u001b[1;32m      1\u001b[0m \u001b[39m## for ROC\u001b[39;00m\n\u001b[0;32m----> 2\u001b[0m prob2 \u001b[39m=\u001b[39m lr\u001b[39m.\u001b[39;49mpredict_proba(X_test)\n\u001b[1;32m      3\u001b[0m prob2 \u001b[39m=\u001b[39m prob2[:,\u001b[39m1\u001b[39m]     \u001b[39m# choose the 2nd column --class 1 pathogenic\u001b[39;00m\n\u001b[1;32m      4\u001b[0m fprLr, tprLr, thresholdsLr \u001b[39m=\u001b[39m roc_curve(y_test, prob2)\n",
      "\u001b[0;31mAttributeError\u001b[0m: 'LinearRegression' object has no attribute 'predict_proba'"
     ]
    }
   ],
   "source": [
    "## 'LinearRegression' object has no attribute 'predict_proba'\n",
    "\n",
    "# ## for ROC\n",
    "# prob2 = lr.predict_proba(X_test)\n",
    "# prob2 = prob2[:,1]     # choose the 2nd column --class 1 pathogenic\n",
    "# fprLr, tprLr, thresholdsLr = roc_curve(y_test, prob2)"
   ]
  },
  {
   "cell_type": "markdown",
   "metadata": {},
   "source": []
  },
  {
   "attachments": {},
   "cell_type": "markdown",
   "metadata": {},
   "source": [
    "#### 3. logistic regression"
   ]
  },
  {
   "cell_type": "code",
   "execution_count": null,
   "metadata": {},
   "outputs": [
    {
     "name": "stdout",
     "output_type": "stream",
     "text": [
      "Training set score: 0.978\n",
      "Test set score: 0.978\n"
     ]
    }
   ],
   "source": [
    "from sklearn.linear_model import LogisticRegression\n",
    "logreg = LogisticRegression(max_iter=1000).fit(X_train, y_train)   # max iteration to finish converage: max_iter=1000 , C =1 \n",
    "print(\"Training set score: {:.3f}\".format(logreg.score(X_train, y_train))) \n",
    "print(\"Test set score: {:.3f}\".format(logreg.score(X_test, y_test)))"
   ]
  },
  {
   "cell_type": "code",
   "execution_count": 13,
   "metadata": {},
   "outputs": [],
   "source": [
    "## saved model, now load \n",
    "\n",
    "logreg = joblib.load('../../../../../result/03_ML/01_train_model/01_featureV1/zelse/models/logistic_featsV1_model.sav')\n",
    "\n",
    "# test = joblib.load('KNN_featsV1_model.sav')    # load back\n",
    "# test.score(X_test, y_test)"
   ]
  },
  {
   "cell_type": "code",
   "execution_count": 14,
   "metadata": {},
   "outputs": [],
   "source": [
    "## for ROC\n",
    "prob3 = logreg.predict_proba(X_test)\n",
    "prob3 = prob3[:,1]     # choose the 2nd column --class 1 pathogenic\n",
    "fprLg, tprLg, thresholdsLg = roc_curve(y_test, prob3)"
   ]
  },
  {
   "cell_type": "markdown",
   "metadata": {},
   "source": []
  },
  {
   "attachments": {},
   "cell_type": "markdown",
   "metadata": {},
   "source": [
    "#### 4. Linear SVM\n",
    "more than 1min"
   ]
  },
  {
   "cell_type": "code",
   "execution_count": null,
   "metadata": {},
   "outputs": [],
   "source": [
    "# from sklearn.svm import LinearSVC\n",
    "# linear_svm = LinearSVC(max_iter=1000).fit(X_train, y_train)\n",
    "# print(\"Training set score: {:.3f}\".format(linear_svm.score(X_train, y_train))) \n",
    "# print(\"Test set score: {:.3f}\".format(linear_svm.score(X_test, y_test)))"
   ]
  },
  {
   "cell_type": "markdown",
   "metadata": {},
   "source": []
  },
  {
   "attachments": {},
   "cell_type": "markdown",
   "metadata": {},
   "source": [
    "#### 5.decision tree"
   ]
  },
  {
   "cell_type": "code",
   "execution_count": null,
   "metadata": {},
   "outputs": [
    {
     "name": "stdout",
     "output_type": "stream",
     "text": [
      "Accuracy on training set: 1.000\n",
      "Accuracy on test set: 0.979\n"
     ]
    }
   ],
   "source": [
    "from sklearn.tree import DecisionTreeClassifier\n",
    "tree = DecisionTreeClassifier(random_state=0)\n",
    "tree.fit(X_train, y_train)\n",
    "print(\"Accuracy on training set: {:.3f}\".format(tree.score(X_train, y_train))) \n",
    "print(\"Accuracy on test set: {:.3f}\".format(tree.score(X_test, y_test)))\n"
   ]
  },
  {
   "cell_type": "code",
   "execution_count": 16,
   "metadata": {},
   "outputs": [],
   "source": [
    "## saved model, now load\n",
    "\n",
    "tree = joblib.load('../../../../../result/03_ML/01_train_model/01_featureV1/zelse/models/decision_featsV1_model.sav')"
   ]
  },
  {
   "cell_type": "code",
   "execution_count": 17,
   "metadata": {},
   "outputs": [],
   "source": [
    "## for ROC\n",
    "prob4 = tree.predict_proba(X_test)\n",
    "prob4 = prob4[:,1]\n",
    "fprDt, tprDt, thresholdsDt = roc_curve(y_test, prob4)"
   ]
  },
  {
   "cell_type": "markdown",
   "metadata": {},
   "source": []
  },
  {
   "attachments": {},
   "cell_type": "markdown",
   "metadata": {},
   "source": [
    "#### 6. random forest\n",
    "also for select feature importance\n",
    "3mins"
   ]
  },
  {
   "cell_type": "code",
   "execution_count": 18,
   "metadata": {},
   "outputs": [
    {
     "name": "stdout",
     "output_type": "stream",
     "text": [
      "Accuracy on training set: 1.000000\n",
      "Accuracy on test set: 0.987367\n"
     ]
    }
   ],
   "source": [
    "from sklearn.ensemble import RandomForestClassifier\n",
    "\n",
    "forest = RandomForestClassifier(n_estimators=600,random_state=1) \n",
    "forest.fit(X_train, y_train)\n",
    "print(\"Accuracy on training set: {:f}\".format(forest.score(X_train, y_train))) \n",
    "print(\"Accuracy on test set: {:f}\".format(forest.score(X_test, y_test)))"
   ]
  },
  {
   "cell_type": "code",
   "execution_count": 26,
   "metadata": {},
   "outputs": [],
   "source": [
    "# load saved model\n",
    "forest = joblib.load('../../../../../result/03_ML/01_train_model/01_featureV1/zelse/models/forest_featsV1_model.sav')"
   ]
  },
  {
   "cell_type": "code",
   "execution_count": 27,
   "metadata": {},
   "outputs": [],
   "source": [
    "## for ROC curve\n",
    "prob6 = forest.predict_proba(X_test)\n",
    "prob6 = prob6[:,1]\n",
    "fprRf, tprRf, thresholdsRf = roc_curve(y_test, prob6)"
   ]
  },
  {
   "cell_type": "markdown",
   "metadata": {},
   "source": []
  },
  {
   "attachments": {},
   "cell_type": "markdown",
   "metadata": {},
   "source": [
    "7. Gradient boosting"
   ]
  },
  {
   "cell_type": "code",
   "execution_count": 39,
   "metadata": {},
   "outputs": [
    {
     "name": "stdout",
     "output_type": "stream",
     "text": [
      "Accuracy on training set: 0.988945\n",
      "Accuracy on test set: 0.986586\n"
     ]
    }
   ],
   "source": [
    "from sklearn.ensemble import GradientBoostingClassifier\n",
    "GB = GradientBoostingClassifier(n_estimators=500,random_state=0).fit(X_train, y_train)\n",
    "\n",
    "print(\"Accuracy on training set: {:f}\".format(GB.score(X_train, y_train))) \n",
    "print(\"Accuracy on test set: {:f}\".format(GB.score(X_test, y_test)))"
   ]
  },
  {
   "cell_type": "code",
   "execution_count": 20,
   "metadata": {},
   "outputs": [],
   "source": [
    "# load saved model\n",
    "GB = joblib.load('../../../../../result/03_ML/01_train_model/01_featureV1/zelse/models/Gradient_featsV1_model.sav')"
   ]
  },
  {
   "cell_type": "code",
   "execution_count": 21,
   "metadata": {},
   "outputs": [],
   "source": [
    "## for ROC curve\n",
    "prob7 = GB.predict_proba(X_test)\n",
    "prob7 = prob7[:,1]\n",
    "fprGB, tprGB, thresholdsGB = roc_curve(y_test, prob7)"
   ]
  },
  {
   "attachments": {},
   "cell_type": "markdown",
   "metadata": {},
   "source": [
    "8. kernal SVM  \n",
    "long time!"
   ]
  },
  {
   "cell_type": "code",
   "execution_count": 25,
   "metadata": {},
   "outputs": [
    {
     "name": "stdout",
     "output_type": "stream",
     "text": [
      "Accuracy on training set: 0.977630\n",
      "Accuracy on test set: 0.977783\n"
     ]
    },
    {
     "data": {
      "text/plain": [
       "['/Users/nancy/Desktop/RS_projects/result/03_ML/01_train_model/01_featureV1/zelse/models/kerSVM_featsV1_model.sav']"
      ]
     },
     "execution_count": 25,
     "metadata": {},
     "output_type": "execute_result"
    }
   ],
   "source": [
    "from sklearn.svm import SVC\n",
    "\n",
    "svm = SVC(probability=True).fit(X_train, y_train)\n",
    "\n",
    "print(\"Accuracy on training set: {:f}\".format(svm.score(X_train, y_train))) \n",
    "print(\"Accuracy on test set: {:f}\".format(svm.score(X_test, y_test)))\n",
    "\n",
    "# save model\n",
    "joblib.dump(svm,'/Users/nancy/Desktop/RS_projects/result/03_ML/01_train_model/01_featureV1/zelse/models/kerSVM_featsV1_model.sav')"
   ]
  },
  {
   "cell_type": "code",
   "execution_count": 22,
   "metadata": {},
   "outputs": [],
   "source": [
    "# load saved model\n",
    "svm = joblib.load('../../../../../result/03_ML/01_train_model/01_featureV1/zelse/models/kerSVM_featsV1_model.sav')"
   ]
  },
  {
   "cell_type": "code",
   "execution_count": 23,
   "metadata": {},
   "outputs": [],
   "source": [
    "## for ROC curve\n",
    "prob8 = svm.predict_proba(X_test)\n",
    "prob8 = prob8[:,1]\n",
    "fprSVM, tprSVM, thresholdsSVM = roc_curve(y_test, prob8)"
   ]
  },
  {
   "attachments": {},
   "cell_type": "markdown",
   "metadata": {},
   "source": [
    "## plot ROC curve together, 6 models\n",
    "KNN, logitic regression, decision tree, radom forest, Gradient boosting, kernal SVM\n",
    "(linear SVM , linear regression doesn't have proba)"
   ]
  },
  {
   "cell_type": "code",
   "execution_count": 24,
   "metadata": {},
   "outputs": [],
   "source": [
    "import sklearn.metrics as metrics\n",
    "\n",
    "roc_Kn = metrics.auc(fprKn,tprKn)\n",
    "# roc_Lr = metrics.auc(fprLr, tprLr)\n",
    "\n",
    "roc_Lg = metrics.auc(fprLg,tprLg)\n",
    "roc_Dt = metrics.auc(fprDt,tprDt)\n",
    "roc_Rf = metrics.auc(fprRf,tprRf)\n",
    "\n",
    "roc_Gb = metrics.auc(fprGB, tprGB)\n",
    "roc_Svm = metrics.auc(fprSVM, tprSVM)\n"
   ]
  },
  {
   "cell_type": "code",
   "execution_count": 28,
   "metadata": {},
   "outputs": [
    {
     "data": {
      "image/png": "[encoded data removed]",
      "text/plain": [
       "<Figure size 640x480 with 1 Axes>"
      ]
     },
     "metadata": {},
     "output_type": "display_data"
    }
   ],
   "source": [
    "plt.plot(fprKn, tprKn, label='k-Nearest Neighbors'+ ' (AUC = ' + str(\"%.6f\" % roc_Kn),linewidth=2)\n",
    "# plt.plot(fprLr, tprLr, label='Linear Regression'+ ' (AUC = ' + str(\"%.6f\" % roc_Lg),linewidth=2)\n",
    "\n",
    "plt.plot(fprLg, tprLg, label='Logistic Regression'+ ' (AUC = ' + str(\"%.6f\" % roc_Lg),linewidth=2)\n",
    "plt.plot(fprDt, tprDt, label='Decision Tree' + ' (AUC = ' + str(\"%.6f\" % roc_Dt), linewidth=2)\n",
    "plt.plot(fprRf, tprRf, label='Random Forest' + ' (AUC = ' + str(\"%.6f\" % roc_Rf), linewidth=2)\n",
    "\n",
    "plt.plot(fprGB, tprGB, label='Gradient Boosting' + ' (AUC = ' + str(\"%.6f\" % roc_Gb), linewidth=2)\n",
    "plt.plot(fprSVM, tprSVM, label='kernal SVM' + ' (AUC = ' + str(\"%.6f\" % roc_Svm), linewidth=2)\n",
    "\n",
    "\n",
    "# axis labels\n",
    "plt.xlabel('False Positive Rate')\n",
    "plt.ylabel('True Positive Rate')\n",
    "# show the legend\n",
    "plt.legend()\n",
    "\n",
    "# show the plot\n",
    "plt.show()"
   ]
  }
 ],
 "metadata": {
  "kernelspec": {
   "display_name": "bioinfo",
   "language": "python",
   "name": "python3"
  },
  "language_info": {
   "codemirror_mode": {
    "name": "ipython",
    "version": 3
   },
   "file_extension": ".py",
   "mimetype": "text/x-python",
   "name": "python",
   "nbconvert_exporter": "python",
   "pygments_lexer": "ipython3",
   "version": "3.10.8"
  },
  "orig_nbformat": 4,
  "vscode": {
   "interpreter": {
    "hash": "c02203d1d64a20e095821dadd6770e07e454ea747f2e6a086ab8a4b96e3b68a3"
   }
  }
 },
 "nbformat": 4,
 "nbformat_minor": 2
}
