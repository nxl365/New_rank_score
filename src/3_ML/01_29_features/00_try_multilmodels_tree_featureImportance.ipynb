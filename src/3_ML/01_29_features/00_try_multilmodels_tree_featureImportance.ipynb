{
 "cells": [
  {
   "attachments": {},
   "cell_type": "markdown",
   "metadata": {},
   "source": [
    "# try different supervised models and SFS,free based model importance\n",
    "with 29 features, clinvar data"
   ]
  },
  {
   "cell_type": "markdown",
   "metadata": {},
   "source": []
  },
  {
   "attachments": {},
   "cell_type": "markdown",
   "metadata": {},
   "source": [
    "# train models with ML"
   ]
  },
  {
   "cell_type": "code",
   "execution_count": 41,
   "metadata": {},
   "outputs": [],
   "source": [
    "import pandas as pd\n",
    "import numpy as np\n",
    "import matplotlib.pyplot as plt"
   ]
  },
  {
   "cell_type": "code",
   "execution_count": 42,
   "metadata": {},
   "outputs": [],
   "source": [
    "df_3=pd.read_csv('/Users/nancy/Desktop/RS_projects/data/03_ML/01_featureV1/01_preprocessed_data.csv')"
   ]
  },
  {
   "attachments": {},
   "cell_type": "markdown",
   "metadata": {},
   "source": []
  },
  {
   "attachments": {},
   "cell_type": "markdown",
   "metadata": {},
   "source": [
    "## split test/train"
   ]
  },
  {
   "cell_type": "code",
   "execution_count": 43,
   "metadata": {},
   "outputs": [],
   "source": [
    "## balance benign and pathogenic quantity\n",
    "\n",
    "benign = df_3[df_3[\"CLNSIG\"]==0]\n",
    "pathogenic = df_3[df_3[\"CLNSIG\"]==1]\n",
    "benign = benign.sample(len(pathogenic),random_state=42)   # randomly extract benign same quantity with patho\n",
    "data = pd.concat( (benign,pathogenic),axis=0,\n",
    "    join=\"outer\",\n",
    "    ignore_index=False,\n",
    "    keys=None,\n",
    "    levels=None,\n",
    "    names=None,\n",
    "    verify_integrity=False,\n",
    "    copy=True)"
   ]
  },
  {
   "cell_type": "code",
   "execution_count": 14,
   "metadata": {},
   "outputs": [
    {
     "data": {
      "text/plain": [
       "Index(['Consequence', 'IMPACT', 'BIOTYPE', 'SIFT', 'PolyPhen', 'SPIDEX_NAN',\n",
       "       'SIFT_NAN', 'PolyPhen_NAN', 'REVEL_score_NAN',\n",
       "       'SpliceAI_pred_DS_AG_NAN', 'ORIGIN_0', 'ORIGIN_1', 'ORIGIN_2',\n",
       "       'ORIGIN_3', 'ORIGIN_4', 'ORIGIN_5', 'CADD', 'AF_TGP', 'Frq',\n",
       "       'GNOMADAF_popmax', 'Hom', 'SPIDEX', 'SWEGENAF', 'MES-SWA_acceptor_alt',\n",
       "       'MES-SWA_acceptor_diff', 'MES-SWA_donor_alt', 'MES-SWA_donor_diff',\n",
       "       'MaxEntScan_alt', 'MaxEntScan_diff', 'GERP++_RS', 'REVEL_score',\n",
       "       'phastCons100way_vertebrate', 'phyloP100way_vertebrate', 'LoFtool',\n",
       "       'pLI_gene_value', 'SpliceAI_pred_DS_AG', 'SpliceAI_pred_DS_AL',\n",
       "       'SpliceAI_pred_DS_DG', 'SpliceAI_pred_DS_DL'],\n",
       "      dtype='object')"
      ]
     },
     "execution_count": 14,
     "metadata": {},
     "output_type": "execute_result"
    }
   ],
   "source": [
    "data.columns[1:]"
   ]
  },
  {
   "cell_type": "code",
   "execution_count": 45,
   "metadata": {},
   "outputs": [],
   "source": [
    "from sklearn.model_selection import train_test_split\n",
    "X, y = data.iloc[:, 1:].values, data.iloc[:, 0].values\n",
    "\n",
    "X_train, X_test, y_train, y_test =\\\n",
    "    train_test_split(X, y, \n",
    "                    test_size=0.3,\n",
    "                    random_state=42,\n",
    "                    stratify=y)"
   ]
  },
  {
   "cell_type": "code",
   "execution_count": 6,
   "metadata": {},
   "outputs": [
    {
     "data": {
      "text/plain": [
       "(143434, 39)"
      ]
     },
     "execution_count": 6,
     "metadata": {},
     "output_type": "execute_result"
    }
   ],
   "source": [
    "X_train.shape"
   ]
  },
  {
   "cell_type": "code",
   "execution_count": null,
   "metadata": {},
   "outputs": [],
   "source": []
  },
  {
   "cell_type": "markdown",
   "metadata": {},
   "source": []
  },
  {
   "cell_type": "markdown",
   "metadata": {},
   "source": []
  },
  {
   "attachments": {},
   "cell_type": "markdown",
   "metadata": {},
   "source": [
    "##  train models"
   ]
  },
  {
   "cell_type": "code",
   "execution_count": 7,
   "metadata": {},
   "outputs": [],
   "source": [
    "import mglearn   # lizard book's library for plots    # pip install mglearn"
   ]
  },
  {
   "cell_type": "code",
   "execution_count": 46,
   "metadata": {},
   "outputs": [],
   "source": [
    "from sklearn.metrics import roc_curve\n",
    "import matplotlib.pyplot as plt"
   ]
  },
  {
   "attachments": {},
   "cell_type": "markdown",
   "metadata": {},
   "source": []
  },
  {
   "attachments": {},
   "cell_type": "markdown",
   "metadata": {},
   "source": [
    "#### 1. k-Nearest Neighbors\n",
    "classifier   k-NN\n",
    "slower, 16mins ! bad for much 0, much features"
   ]
  },
  {
   "cell_type": "code",
   "execution_count": 10,
   "metadata": {},
   "outputs": [
    {
     "name": "stdout",
     "output_type": "stream",
     "text": [
      "Training set score: 0.9829\n",
      "Test set score: 0.9745\n"
     ]
    }
   ],
   "source": [
    "from sklearn.neighbors import KNeighborsClassifier\n",
    "\n",
    "\n",
    "clf = KNeighborsClassifier(n_neighbors=3) \n",
    "clf.fit(X_train, y_train)\n",
    "# predictions = clf.predict(X_test)\n",
    "    # record training set accuracy\n",
    "print(\"Training set score: {:.4f}\".format(clf.score(X_train, y_train))) \n",
    "print(\"Test set score: {:.4f}\".format(clf.score(X_test, y_test)))"
   ]
  },
  {
   "cell_type": "code",
   "execution_count": 49,
   "metadata": {},
   "outputs": [
    {
     "data": {
      "text/plain": [
       "['KNN_featsV1_model.sav']"
      ]
     },
     "execution_count": 49,
     "metadata": {},
     "output_type": "execute_result"
    }
   ],
   "source": [
    "## save model\n",
    "import joblib\n",
    "\n",
    "joblib.dump(clf,'KNN_featsV1_model.sav')\n",
    "\n",
    "# test = joblib.load('KNN_featsV1_model.sav')    # load back\n",
    "# test.score(X_test, y_test)"
   ]
  },
  {
   "attachments": {},
   "cell_type": "markdown",
   "metadata": {},
   "source": [
    "for ROC curve"
   ]
  },
  {
   "cell_type": "code",
   "execution_count": 14,
   "metadata": {},
   "outputs": [],
   "source": [
    "prob1 = clf.predict_proba(X_test)\n",
    "prob1 = prob1[:,1]     # choose the 2nd column --class 1 pathogenic\n",
    "fprKn, tprKn, thresholdsKn = roc_curve(y_test, prob1)"
   ]
  },
  {
   "cell_type": "code",
   "execution_count": null,
   "metadata": {},
   "outputs": [],
   "source": []
  },
  {
   "attachments": {},
   "cell_type": "markdown",
   "metadata": {},
   "source": []
  },
  {
   "attachments": {},
   "cell_type": "markdown",
   "metadata": {},
   "source": [
    "#### 2. linear regression \n",
    "Ridge regression alternatives to standard "
   ]
  },
  {
   "cell_type": "code",
   "execution_count": null,
   "metadata": {},
   "outputs": [],
   "source": [
    "# linear regression   no parameter can adjust\n",
    "from sklearn.linear_model import LinearRegression\n",
    "lr = LinearRegression().fit(X_train, y_train)\n",
    "print(\"Training set score: {:.5f}\".format(lr.score(X_train, y_train))) \n",
    "print(\"Test set score: {:.5f}\".format(lr.score(X_test, y_test)))"
   ]
  },
  {
   "cell_type": "code",
   "execution_count": 24,
   "metadata": {},
   "outputs": [
    {
     "name": "stdout",
     "output_type": "stream",
     "text": [
      "Training set score: 0.86\n",
      "Test set score: 0.86\n"
     ]
    }
   ],
   "source": [
    "# Ridge regression : the default parameter alpha=1.0\n",
    "\n",
    "from sklearn.linear_model import Ridge\n",
    "\n",
    "ridge = Ridge(alpha=1.0).fit(X_train, y_train)\n",
    "print(\"Training set score: {:.2f}\".format(ridge.score(X_train, y_train))) \n",
    "print(\"Test set score: {:.2f}\".format(ridge.score(X_test, y_test)))"
   ]
  },
  {
   "cell_type": "markdown",
   "metadata": {},
   "source": []
  },
  {
   "attachments": {},
   "cell_type": "markdown",
   "metadata": {},
   "source": [
    "#### 3. logistic regression"
   ]
  },
  {
   "cell_type": "code",
   "execution_count": 16,
   "metadata": {},
   "outputs": [
    {
     "name": "stdout",
     "output_type": "stream",
     "text": [
      "Training set score: 0.978\n",
      "Test set score: 0.978\n"
     ]
    }
   ],
   "source": [
    "from sklearn.linear_model import LogisticRegression\n",
    "logreg = LogisticRegression(max_iter=1000).fit(X_train, y_train)   # max iteration to finish converage: max_iter=1000 , C =1 \n",
    "print(\"Training set score: {:.3f}\".format(logreg.score(X_train, y_train))) \n",
    "print(\"Test set score: {:.3f}\".format(logreg.score(X_test, y_test)))"
   ]
  },
  {
   "cell_type": "code",
   "execution_count": 54,
   "metadata": {},
   "outputs": [
    {
     "data": {
      "text/plain": [
       "['logistic_featsV1_model.sav']"
      ]
     },
     "execution_count": 54,
     "metadata": {},
     "output_type": "execute_result"
    }
   ],
   "source": [
    "## save model\n",
    "\n",
    "joblib.dump(logreg,'logistic_featsV1_model.sav')\n",
    "\n",
    "# test = joblib.load('KNN_featsV1_model.sav')    # load back\n",
    "# test.score(X_test, y_test)"
   ]
  },
  {
   "cell_type": "code",
   "execution_count": 17,
   "metadata": {},
   "outputs": [],
   "source": [
    "## for ROC\n",
    "prob2 = logreg.predict_proba(X_test)\n",
    "prob2 = prob2[:,1]     # choose the 2nd column --class 1 pathogenic\n",
    "fprLg, tprLg, thresholdsLg = roc_curve(y_test, prob2)"
   ]
  },
  {
   "cell_type": "code",
   "execution_count": 20,
   "metadata": {},
   "outputs": [
    {
     "name": "stdout",
     "output_type": "stream",
     "text": [
      "Training set score: 0.979\n",
      "Test set score: 0.978\n"
     ]
    }
   ],
   "source": [
    "logreg100 = LogisticRegression(C=100,max_iter=1000).fit(X_train, y_train)\n",
    "print(\"Training set score: {:.3f}\".format(logreg100.score(X_train, y_train))) \n",
    "print(\"Test set score: {:.3f}\".format(logreg100.score(X_test, y_test)))"
   ]
  },
  {
   "cell_type": "code",
   "execution_count": 63,
   "metadata": {},
   "outputs": [
    {
     "name": "stdout",
     "output_type": "stream",
     "text": [
      "Training set score: 0.978\n",
      "Test set score: 0.977\n"
     ]
    }
   ],
   "source": [
    "logreg001 = LogisticRegression(C=0.01,max_iter=1000).fit(X_train, y_train)\n",
    "print(\"Training set score: {:.3f}\".format(logreg001.score(X_train, y_train))) \n",
    "print(\"Test set score: {:.3f}\".format(logreg001.score(X_test, y_test)))"
   ]
  },
  {
   "cell_type": "markdown",
   "metadata": {},
   "source": []
  },
  {
   "attachments": {},
   "cell_type": "markdown",
   "metadata": {},
   "source": [
    "3.1 feature selection"
   ]
  },
  {
   "attachments": {},
   "cell_type": "markdown",
   "metadata": {},
   "source": [
    "1) sequential feature select\n",
    "    [http://rasbt.github.io/mlxtend/user_guide/feature_selection/](http://rasbt.github.io/mlxtend/user_guide/feature_selection/)"
   ]
  },
  {
   "cell_type": "code",
   "execution_count": 13,
   "metadata": {},
   "outputs": [
    {
     "data": {
      "text/plain": [
       "39"
      ]
     },
     "execution_count": 13,
     "metadata": {},
     "output_type": "execute_result"
    }
   ],
   "source": [
    "X.shape[1]"
   ]
  },
  {
   "cell_type": "code",
   "execution_count": 16,
   "metadata": {},
   "outputs": [
    {
     "name": "stderr",
     "output_type": "stream",
     "text": [
      "[Parallel(n_jobs=-1)]: Using backend LokyBackend with 8 concurrent workers.\n",
      "[Parallel(n_jobs=-1)]: Done  39 out of  39 | elapsed:    2.8s finished\n",
      "\n",
      "[2023-03-23 22:33:43] Features: 1/39 -- score: 0.9524521314273284[Parallel(n_jobs=-1)]: Using backend LokyBackend with 8 concurrent workers.\n",
      "[Parallel(n_jobs=-1)]: Done  38 out of  38 | elapsed:    1.7s finished\n",
      "\n",
      "[2023-03-23 22:33:45] Features: 2/39 -- score: 0.9604195367359574[Parallel(n_jobs=-1)]: Using backend LokyBackend with 8 concurrent workers.\n",
      "[Parallel(n_jobs=-1)]: Done  37 out of  37 | elapsed:    2.4s finished\n",
      "\n",
      "[2023-03-23 22:33:47] Features: 3/39 -- score: 0.9683451110751675[Parallel(n_jobs=-1)]: Using backend LokyBackend with 8 concurrent workers.\n",
      "[Parallel(n_jobs=-1)]: Done  36 out of  36 | elapsed:    3.9s finished\n",
      "\n",
      "[2023-03-23 22:33:51] Features: 4/39 -- score: 0.9695721528447848[Parallel(n_jobs=-1)]: Using backend LokyBackend with 8 concurrent workers.\n",
      "[Parallel(n_jobs=-1)]: Done  35 out of  35 | elapsed:    5.3s finished\n",
      "\n",
      "[2023-03-23 22:33:57] Features: 5/39 -- score: 0.9706346594680215[Parallel(n_jobs=-1)]: Using backend LokyBackend with 8 concurrent workers.\n",
      "[Parallel(n_jobs=-1)]: Done  34 out of  34 | elapsed:    6.8s finished\n",
      "\n",
      "[2023-03-23 22:34:04] Features: 6/39 -- score: 0.9711700958765819[Parallel(n_jobs=-1)]: Using backend LokyBackend with 8 concurrent workers.\n",
      "[Parallel(n_jobs=-1)]: Done  33 out of  33 | elapsed:    9.5s finished\n",
      "\n",
      "[2023-03-23 22:34:13] Features: 7/39 -- score: 0.9762818403395559[Parallel(n_jobs=-1)]: Using backend LokyBackend with 8 concurrent workers.\n",
      "[Parallel(n_jobs=-1)]: Done  32 out of  32 | elapsed:   11.4s finished\n",
      "\n",
      "[2023-03-23 22:34:25] Features: 8/39 -- score: 0.9769065161495429[Parallel(n_jobs=-1)]: Using backend LokyBackend with 8 concurrent workers.\n",
      "[Parallel(n_jobs=-1)]: Done  31 out of  31 | elapsed:   16.6s finished\n",
      "\n",
      "[2023-03-23 22:34:41] Features: 9/39 -- score: 0.9774280089016303[Parallel(n_jobs=-1)]: Using backend LokyBackend with 8 concurrent workers.\n",
      "/Users/nancy/miniconda3/envs/bioinfo/lib/python3.10/site-packages/joblib/externals/loky/process_executor.py:702: UserWarning: A worker stopped while some jobs were given to the executor. This can be caused by a too short worker timeout or by a memory leak.\n",
      "  warnings.warn(\n",
      "[Parallel(n_jobs=-1)]: Done  30 out of  30 | elapsed:   22.6s finished\n",
      "\n",
      "[2023-03-23 22:35:04] Features: 10/39 -- score: 0.9777152482249725[Parallel(n_jobs=-1)]: Using backend LokyBackend with 8 concurrent workers.\n",
      "[Parallel(n_jobs=-1)]: Done  29 out of  29 | elapsed:   26.6s remaining:    0.0s\n",
      "[Parallel(n_jobs=-1)]: Done  29 out of  29 | elapsed:   26.6s finished\n",
      "\n",
      "[2023-03-23 22:35:31] Features: 11/39 -- score: 0.9779829664292528[Parallel(n_jobs=-1)]: Using backend LokyBackend with 8 concurrent workers.\n",
      "[Parallel(n_jobs=-1)]: Done  28 out of  28 | elapsed:   27.6s remaining:    0.0s\n",
      "[Parallel(n_jobs=-1)]: Done  28 out of  28 | elapsed:   27.6s finished\n",
      "\n",
      "[2023-03-23 22:35:58] Features: 12/39 -- score: 0.9780889382184469[Parallel(n_jobs=-1)]: Using backend LokyBackend with 8 concurrent workers.\n",
      "[Parallel(n_jobs=-1)]: Done  27 out of  27 | elapsed:   29.7s finished\n",
      "\n",
      "[2023-03-23 22:36:28] Features: 13/39 -- score: 0.9782004874702304[Parallel(n_jobs=-1)]: Using backend LokyBackend with 8 concurrent workers.\n",
      "[Parallel(n_jobs=-1)]: Done  26 out of  26 | elapsed: 34.2min finished\n",
      "\n",
      "[2023-03-23 23:10:39] Features: 14/39 -- score: 0.978275783215184[Parallel(n_jobs=-1)]: Using backend LokyBackend with 8 concurrent workers.\n",
      "[Parallel(n_jobs=-1)]: Done  23 out of  25 | elapsed: 15.8min remaining:  1.4min\n",
      "[Parallel(n_jobs=-1)]: Done  25 out of  25 | elapsed: 15.9min finished\n",
      "\n",
      "[2023-03-23 23:26:31] Features: 15/39 -- score: 0.9783315578410758[Parallel(n_jobs=-1)]: Using backend LokyBackend with 8 concurrent workers.\n",
      "[Parallel(n_jobs=-1)]: Done  22 out of  24 | elapsed:   34.0s remaining:    3.1s\n",
      "[Parallel(n_jobs=-1)]: Done  24 out of  24 | elapsed:   35.8s finished\n",
      "\n",
      "[2023-03-23 23:27:07] Features: 16/39 -- score: 0.9783901211982621[Parallel(n_jobs=-1)]: Using backend LokyBackend with 8 concurrent workers.\n",
      "[Parallel(n_jobs=-1)]: Done  20 out of  23 | elapsed:   35.2s remaining:    5.3s\n",
      "[Parallel(n_jobs=-1)]: Done  23 out of  23 | elapsed:   37.0s finished\n",
      "\n",
      "[2023-03-23 23:27:44] Features: 17/39 -- score: 0.9785239803004022[Parallel(n_jobs=-1)]: Using backend LokyBackend with 8 concurrent workers.\n",
      "[Parallel(n_jobs=-1)]: Done  19 out of  22 | elapsed:   34.7s remaining:    5.5s\n",
      "[Parallel(n_jobs=-1)]: Done  22 out of  22 | elapsed:   35.1s finished\n",
      "\n",
      "[2023-03-23 23:28:19] Features: 18/39 -- score: 0.9785686000011156[Parallel(n_jobs=-1)]: Using backend LokyBackend with 8 concurrent workers.\n",
      "[Parallel(n_jobs=-1)]: Done  17 out of  21 | elapsed:   37.1s remaining:    8.7s\n",
      "[Parallel(n_jobs=-1)]: Done  21 out of  21 | elapsed:   40.4s finished\n",
      "\n",
      "[2023-03-23 23:29:00] Features: 19/39 -- score: 0.9786606281338368[Parallel(n_jobs=-1)]: Using backend LokyBackend with 8 concurrent workers.\n",
      "[Parallel(n_jobs=-1)]: Done  16 out of  20 | elapsed:   28.4s remaining:    7.1s\n",
      "[Parallel(n_jobs=-1)]: Done  20 out of  20 | elapsed:   37.2s finished\n",
      "\n",
      "[2023-03-23 23:29:37] Features: 20/39 -- score: 0.9787024591032556[Parallel(n_jobs=-1)]: Using backend LokyBackend with 8 concurrent workers.\n",
      "[Parallel(n_jobs=-1)]: Done  14 out of  19 | elapsed:   29.9s remaining:   10.7s\n",
      "[Parallel(n_jobs=-1)]: Done  19 out of  19 | elapsed:   39.2s finished\n",
      "\n",
      "[2023-03-23 23:30:16] Features: 21/39 -- score: 0.9787247689536123[Parallel(n_jobs=-1)]: Using backend LokyBackend with 8 concurrent workers.\n",
      "/Users/nancy/miniconda3/envs/bioinfo/lib/python3.10/site-packages/sklearn/linear_model/_logistic.py:814: ConvergenceWarning: lbfgs failed to converge (status=1):\n",
      "STOP: TOTAL NO. of ITERATIONS REACHED LIMIT.\n",
      "\n",
      "Increase the number of iterations (max_iter) or scale the data as shown in:\n",
      "    https://scikit-learn.org/stable/modules/preprocessing.html\n",
      "Please also refer to the documentation for alternative solver options:\n",
      "    https://scikit-learn.org/stable/modules/linear_model.html#logistic-regression\n",
      "  n_iter_i = _check_optimize_result(\n",
      "[Parallel(n_jobs=-1)]: Done  13 out of  18 | elapsed:   29.9s remaining:   11.5s\n",
      "[Parallel(n_jobs=-1)]: Done  18 out of  18 | elapsed:   39.1s finished\n",
      "\n",
      "[2023-03-23 23:30:56] Features: 22/39 -- score: 0.9788112196237444[Parallel(n_jobs=-1)]: Using backend LokyBackend with 8 concurrent workers.\n",
      "/Users/nancy/miniconda3/envs/bioinfo/lib/python3.10/site-packages/sklearn/linear_model/_logistic.py:814: ConvergenceWarning: lbfgs failed to converge (status=1):\n",
      "STOP: TOTAL NO. of ITERATIONS REACHED LIMIT.\n",
      "\n",
      "Increase the number of iterations (max_iter) or scale the data as shown in:\n",
      "    https://scikit-learn.org/stable/modules/preprocessing.html\n",
      "Please also refer to the documentation for alternative solver options:\n",
      "    https://scikit-learn.org/stable/modules/linear_model.html#logistic-regression\n",
      "  n_iter_i = _check_optimize_result(\n",
      "[Parallel(n_jobs=-1)]: Done  11 out of  17 | elapsed:   30.8s remaining:   16.8s\n",
      "[Parallel(n_jobs=-1)]: Done  17 out of  17 | elapsed:   40.0s finished\n",
      "\n",
      "[2023-03-23 23:31:36] Features: 23/39 -- score: 0.978814008355039[Parallel(n_jobs=-1)]: Using backend LokyBackend with 8 concurrent workers.\n",
      "/Users/nancy/miniconda3/envs/bioinfo/lib/python3.10/site-packages/sklearn/linear_model/_logistic.py:814: ConvergenceWarning: lbfgs failed to converge (status=1):\n",
      "STOP: TOTAL NO. of ITERATIONS REACHED LIMIT.\n",
      "\n",
      "Increase the number of iterations (max_iter) or scale the data as shown in:\n",
      "    https://scikit-learn.org/stable/modules/preprocessing.html\n",
      "Please also refer to the documentation for alternative solver options:\n",
      "    https://scikit-learn.org/stable/modules/linear_model.html#logistic-regression\n",
      "  n_iter_i = _check_optimize_result(\n",
      "[Parallel(n_jobs=-1)]: Done  10 out of  16 | elapsed:   32.7s remaining:   19.6s\n",
      "[Parallel(n_jobs=-1)]: Done  16 out of  16 | elapsed:   34.5s finished\n",
      "\n",
      "[2023-03-23 23:32:10] Features: 24/39 -- score: 0.9787972759672714[Parallel(n_jobs=-1)]: Using backend LokyBackend with 8 concurrent workers.\n",
      "[Parallel(n_jobs=-1)]: Done   8 out of  15 | elapsed:   17.8s remaining:   15.6s\n",
      "/Users/nancy/miniconda3/envs/bioinfo/lib/python3.10/site-packages/sklearn/linear_model/_logistic.py:814: ConvergenceWarning: lbfgs failed to converge (status=1):\n",
      "STOP: TOTAL NO. of ITERATIONS REACHED LIMIT.\n",
      "\n",
      "Increase the number of iterations (max_iter) or scale the data as shown in:\n",
      "    https://scikit-learn.org/stable/modules/preprocessing.html\n",
      "Please also refer to the documentation for alternative solver options:\n",
      "    https://scikit-learn.org/stable/modules/linear_model.html#logistic-regression\n",
      "  n_iter_i = _check_optimize_result(\n",
      "[Parallel(n_jobs=-1)]: Done  15 out of  15 | elapsed:   33.4s finished\n",
      "\n",
      "[2023-03-23 23:32:44] Features: 25/39 -- score: 0.9787889097733877[Parallel(n_jobs=-1)]: Using backend LokyBackend with 8 concurrent workers.\n",
      "[Parallel(n_jobs=-1)]: Done   7 out of  14 | elapsed:   17.6s remaining:   17.6s\n",
      "[Parallel(n_jobs=-1)]: Done  14 out of  14 | elapsed:  7.7min finished\n",
      "\n",
      "[2023-03-23 23:40:27] Features: 26/39 -- score: 0.9787610224604418[Parallel(n_jobs=-1)]: Using backend LokyBackend with 8 concurrent workers.\n",
      "[Parallel(n_jobs=-1)]: Done   5 out of  13 | elapsed:   19.8s remaining:   31.7s\n",
      "[Parallel(n_jobs=-1)]: Done  13 out of  13 | elapsed:   32.7s finished\n",
      "\n",
      "[2023-03-23 23:41:00] Features: 27/39 -- score: 0.9787610224604418[Parallel(n_jobs=-1)]: Using backend LokyBackend with 8 concurrent workers.\n",
      "/Users/nancy/miniconda3/envs/bioinfo/lib/python3.10/site-packages/sklearn/linear_model/_logistic.py:814: ConvergenceWarning: lbfgs failed to converge (status=1):\n",
      "STOP: TOTAL NO. of ITERATIONS REACHED LIMIT.\n",
      "\n",
      "Increase the number of iterations (max_iter) or scale the data as shown in:\n",
      "    https://scikit-learn.org/stable/modules/preprocessing.html\n",
      "Please also refer to the documentation for alternative solver options:\n",
      "    https://scikit-learn.org/stable/modules/linear_model.html#logistic-regression\n",
      "  n_iter_i = _check_optimize_result(\n",
      "[Parallel(n_jobs=-1)]: Done   4 out of  12 | elapsed:   19.2s remaining:   38.3s\n",
      "[Parallel(n_jobs=-1)]: Done  12 out of  12 | elapsed:   31.9s finished\n",
      "\n",
      "[2023-03-23 23:41:32] Features: 28/39 -- score: 0.9788251632802173[Parallel(n_jobs=-1)]: Using backend LokyBackend with 8 concurrent workers.\n",
      "[Parallel(n_jobs=-1)]: Done   2 out of  11 | elapsed:   17.7s remaining:  1.3min\n",
      "[Parallel(n_jobs=-1)]: Done   8 out of  11 | elapsed:   19.9s remaining:    7.5s\n",
      "/Users/nancy/miniconda3/envs/bioinfo/lib/python3.10/site-packages/sklearn/linear_model/_logistic.py:814: ConvergenceWarning: lbfgs failed to converge (status=1):\n",
      "STOP: TOTAL NO. of ITERATIONS REACHED LIMIT.\n",
      "\n",
      "Increase the number of iterations (max_iter) or scale the data as shown in:\n",
      "    https://scikit-learn.org/stable/modules/preprocessing.html\n",
      "Please also refer to the documentation for alternative solver options:\n",
      "    https://scikit-learn.org/stable/modules/linear_model.html#logistic-regression\n",
      "  n_iter_i = _check_optimize_result(\n",
      "[Parallel(n_jobs=-1)]: Done  11 out of  11 | elapsed:   31.5s finished\n",
      "\n",
      "[2023-03-23 23:42:03] Features: 29/39 -- score: 0.9788586280557523[Parallel(n_jobs=-1)]: Using backend LokyBackend with 8 concurrent workers.\n",
      "/Users/nancy/miniconda3/envs/bioinfo/lib/python3.10/site-packages/sklearn/linear_model/_logistic.py:814: ConvergenceWarning: lbfgs failed to converge (status=1):\n",
      "STOP: TOTAL NO. of ITERATIONS REACHED LIMIT.\n",
      "\n",
      "Increase the number of iterations (max_iter) or scale the data as shown in:\n",
      "    https://scikit-learn.org/stable/modules/preprocessing.html\n",
      "Please also refer to the documentation for alternative solver options:\n",
      "    https://scikit-learn.org/stable/modules/linear_model.html#logistic-regression\n",
      "  n_iter_i = _check_optimize_result(\n",
      "[Parallel(n_jobs=-1)]: Done   7 out of  10 | elapsed:   20.0s remaining:    8.6s\n",
      "[Parallel(n_jobs=-1)]: Done  10 out of  10 | elapsed:   30.5s finished\n",
      "\n",
      "[2023-03-23 23:42:34] Features: 30/39 -- score: 0.9788586280557523[Parallel(n_jobs=-1)]: Using backend LokyBackend with 8 concurrent workers.\n",
      "/Users/nancy/miniconda3/envs/bioinfo/lib/python3.10/site-packages/sklearn/linear_model/_logistic.py:814: ConvergenceWarning: lbfgs failed to converge (status=1):\n",
      "STOP: TOTAL NO. of ITERATIONS REACHED LIMIT.\n",
      "\n",
      "Increase the number of iterations (max_iter) or scale the data as shown in:\n",
      "    https://scikit-learn.org/stable/modules/preprocessing.html\n",
      "Please also refer to the documentation for alternative solver options:\n",
      "    https://scikit-learn.org/stable/modules/linear_model.html#logistic-regression\n",
      "  n_iter_i = _check_optimize_result(\n",
      "/Users/nancy/miniconda3/envs/bioinfo/lib/python3.10/site-packages/sklearn/linear_model/_logistic.py:814: ConvergenceWarning: lbfgs failed to converge (status=1):\n",
      "STOP: TOTAL NO. of ITERATIONS REACHED LIMIT.\n",
      "\n",
      "Increase the number of iterations (max_iter) or scale the data as shown in:\n",
      "    https://scikit-learn.org/stable/modules/preprocessing.html\n",
      "Please also refer to the documentation for alternative solver options:\n",
      "    https://scikit-learn.org/stable/modules/linear_model.html#logistic-regression\n",
      "  n_iter_i = _check_optimize_result(\n",
      "/Users/nancy/miniconda3/envs/bioinfo/lib/python3.10/site-packages/sklearn/linear_model/_logistic.py:814: ConvergenceWarning: lbfgs failed to converge (status=1):\n",
      "STOP: TOTAL NO. of ITERATIONS REACHED LIMIT.\n",
      "\n",
      "Increase the number of iterations (max_iter) or scale the data as shown in:\n",
      "    https://scikit-learn.org/stable/modules/preprocessing.html\n",
      "Please also refer to the documentation for alternative solver options:\n",
      "    https://scikit-learn.org/stable/modules/linear_model.html#logistic-regression\n",
      "  n_iter_i = _check_optimize_result(\n",
      "/Users/nancy/miniconda3/envs/bioinfo/lib/python3.10/site-packages/sklearn/linear_model/_logistic.py:814: ConvergenceWarning: lbfgs failed to converge (status=1):\n",
      "STOP: TOTAL NO. of ITERATIONS REACHED LIMIT.\n",
      "\n",
      "Increase the number of iterations (max_iter) or scale the data as shown in:\n",
      "    https://scikit-learn.org/stable/modules/preprocessing.html\n",
      "Please also refer to the documentation for alternative solver options:\n",
      "    https://scikit-learn.org/stable/modules/linear_model.html#logistic-regression\n",
      "  n_iter_i = _check_optimize_result(\n",
      "[Parallel(n_jobs=-1)]: Done   4 out of   9 | elapsed:   20.2s remaining:   25.3s\n",
      "[Parallel(n_jobs=-1)]: Done   9 out of   9 | elapsed:   32.3s remaining:    0.0s\n",
      "[Parallel(n_jobs=-1)]: Done   9 out of   9 | elapsed:   32.3s finished\n",
      "\n",
      "[2023-03-23 23:43:06] Features: 31/39 -- score: 0.9788642055183414[Parallel(n_jobs=-1)]: Using backend LokyBackend with 8 concurrent workers.\n",
      "/Users/nancy/miniconda3/envs/bioinfo/lib/python3.10/site-packages/sklearn/linear_model/_logistic.py:814: ConvergenceWarning: lbfgs failed to converge (status=1):\n",
      "STOP: TOTAL NO. of ITERATIONS REACHED LIMIT.\n",
      "\n",
      "Increase the number of iterations (max_iter) or scale the data as shown in:\n",
      "    https://scikit-learn.org/stable/modules/preprocessing.html\n",
      "Please also refer to the documentation for alternative solver options:\n",
      "    https://scikit-learn.org/stable/modules/linear_model.html#logistic-regression\n",
      "  n_iter_i = _check_optimize_result(\n",
      "/Users/nancy/miniconda3/envs/bioinfo/lib/python3.10/site-packages/sklearn/linear_model/_logistic.py:814: ConvergenceWarning: lbfgs failed to converge (status=1):\n",
      "STOP: TOTAL NO. of ITERATIONS REACHED LIMIT.\n",
      "\n",
      "Increase the number of iterations (max_iter) or scale the data as shown in:\n",
      "    https://scikit-learn.org/stable/modules/preprocessing.html\n",
      "Please also refer to the documentation for alternative solver options:\n",
      "    https://scikit-learn.org/stable/modules/linear_model.html#logistic-regression\n",
      "  n_iter_i = _check_optimize_result(\n",
      "[Parallel(n_jobs=-1)]: Done   3 out of   8 | elapsed:   19.1s remaining:   31.9s\n",
      "/Users/nancy/miniconda3/envs/bioinfo/lib/python3.10/site-packages/sklearn/linear_model/_logistic.py:814: ConvergenceWarning: lbfgs failed to converge (status=1):\n",
      "STOP: TOTAL NO. of ITERATIONS REACHED LIMIT.\n",
      "\n",
      "Increase the number of iterations (max_iter) or scale the data as shown in:\n",
      "    https://scikit-learn.org/stable/modules/preprocessing.html\n",
      "Please also refer to the documentation for alternative solver options:\n",
      "    https://scikit-learn.org/stable/modules/linear_model.html#logistic-regression\n",
      "  n_iter_i = _check_optimize_result(\n",
      "[Parallel(n_jobs=-1)]: Done   8 out of   8 | elapsed:   20.7s remaining:    0.0s\n",
      "[Parallel(n_jobs=-1)]: Done   8 out of   8 | elapsed:   20.7s finished\n",
      "\n",
      "[2023-03-23 23:43:27] Features: 32/39 -- score: 0.9788363182053956[Parallel(n_jobs=-1)]: Using backend LokyBackend with 8 concurrent workers.\n",
      "/Users/nancy/miniconda3/envs/bioinfo/lib/python3.10/site-packages/sklearn/linear_model/_logistic.py:814: ConvergenceWarning: lbfgs failed to converge (status=1):\n",
      "STOP: TOTAL NO. of ITERATIONS REACHED LIMIT.\n",
      "\n",
      "Increase the number of iterations (max_iter) or scale the data as shown in:\n",
      "    https://scikit-learn.org/stable/modules/preprocessing.html\n",
      "Please also refer to the documentation for alternative solver options:\n",
      "    https://scikit-learn.org/stable/modules/linear_model.html#logistic-regression\n",
      "  n_iter_i = _check_optimize_result(\n",
      "/Users/nancy/miniconda3/envs/bioinfo/lib/python3.10/site-packages/sklearn/linear_model/_logistic.py:814: ConvergenceWarning: lbfgs failed to converge (status=1):\n",
      "STOP: TOTAL NO. of ITERATIONS REACHED LIMIT.\n",
      "\n",
      "Increase the number of iterations (max_iter) or scale the data as shown in:\n",
      "    https://scikit-learn.org/stable/modules/preprocessing.html\n",
      "Please also refer to the documentation for alternative solver options:\n",
      "    https://scikit-learn.org/stable/modules/linear_model.html#logistic-regression\n",
      "  n_iter_i = _check_optimize_result(\n",
      "/Users/nancy/miniconda3/envs/bioinfo/lib/python3.10/site-packages/sklearn/linear_model/_logistic.py:814: ConvergenceWarning: lbfgs failed to converge (status=1):\n",
      "STOP: TOTAL NO. of ITERATIONS REACHED LIMIT.\n",
      "\n",
      "Increase the number of iterations (max_iter) or scale the data as shown in:\n",
      "    https://scikit-learn.org/stable/modules/preprocessing.html\n",
      "Please also refer to the documentation for alternative solver options:\n",
      "    https://scikit-learn.org/stable/modules/linear_model.html#logistic-regression\n",
      "  n_iter_i = _check_optimize_result(\n",
      "[Parallel(n_jobs=-1)]: Done   4 out of   7 | elapsed:   17.6s remaining:   13.2s\n",
      "/Users/nancy/miniconda3/envs/bioinfo/lib/python3.10/site-packages/sklearn/linear_model/_logistic.py:814: ConvergenceWarning: lbfgs failed to converge (status=1):\n",
      "STOP: TOTAL NO. of ITERATIONS REACHED LIMIT.\n",
      "\n",
      "Increase the number of iterations (max_iter) or scale the data as shown in:\n",
      "    https://scikit-learn.org/stable/modules/preprocessing.html\n",
      "Please also refer to the documentation for alternative solver options:\n",
      "    https://scikit-learn.org/stable/modules/linear_model.html#logistic-regression\n",
      "  n_iter_i = _check_optimize_result(\n",
      "[Parallel(n_jobs=-1)]: Done   7 out of   7 | elapsed:   18.9s finished\n",
      "\n",
      "[2023-03-23 23:43:46] Features: 33/39 -- score: 0.9788084308924498[Parallel(n_jobs=-1)]: Using backend LokyBackend with 8 concurrent workers.\n",
      "/Users/nancy/miniconda3/envs/bioinfo/lib/python3.10/site-packages/sklearn/linear_model/_logistic.py:814: ConvergenceWarning: lbfgs failed to converge (status=1):\n",
      "STOP: TOTAL NO. of ITERATIONS REACHED LIMIT.\n",
      "\n",
      "Increase the number of iterations (max_iter) or scale the data as shown in:\n",
      "    https://scikit-learn.org/stable/modules/preprocessing.html\n",
      "Please also refer to the documentation for alternative solver options:\n",
      "    https://scikit-learn.org/stable/modules/linear_model.html#logistic-regression\n",
      "  n_iter_i = _check_optimize_result(\n",
      "/Users/nancy/miniconda3/envs/bioinfo/lib/python3.10/site-packages/sklearn/linear_model/_logistic.py:814: ConvergenceWarning: lbfgs failed to converge (status=1):\n",
      "STOP: TOTAL NO. of ITERATIONS REACHED LIMIT.\n",
      "\n",
      "Increase the number of iterations (max_iter) or scale the data as shown in:\n",
      "    https://scikit-learn.org/stable/modules/preprocessing.html\n",
      "Please also refer to the documentation for alternative solver options:\n",
      "    https://scikit-learn.org/stable/modules/linear_model.html#logistic-regression\n",
      "  n_iter_i = _check_optimize_result(\n",
      "/Users/nancy/miniconda3/envs/bioinfo/lib/python3.10/site-packages/sklearn/linear_model/_logistic.py:814: ConvergenceWarning: lbfgs failed to converge (status=1):\n",
      "STOP: TOTAL NO. of ITERATIONS REACHED LIMIT.\n",
      "\n",
      "Increase the number of iterations (max_iter) or scale the data as shown in:\n",
      "    https://scikit-learn.org/stable/modules/preprocessing.html\n",
      "Please also refer to the documentation for alternative solver options:\n",
      "    https://scikit-learn.org/stable/modules/linear_model.html#logistic-regression\n",
      "  n_iter_i = _check_optimize_result(\n",
      "[Parallel(n_jobs=-1)]: Done   3 out of   6 | elapsed:   20.5s remaining:   20.5s\n",
      "/Users/nancy/miniconda3/envs/bioinfo/lib/python3.10/site-packages/sklearn/linear_model/_logistic.py:814: ConvergenceWarning: lbfgs failed to converge (status=1):\n",
      "STOP: TOTAL NO. of ITERATIONS REACHED LIMIT.\n",
      "\n",
      "Increase the number of iterations (max_iter) or scale the data as shown in:\n",
      "    https://scikit-learn.org/stable/modules/preprocessing.html\n",
      "Please also refer to the documentation for alternative solver options:\n",
      "    https://scikit-learn.org/stable/modules/linear_model.html#logistic-regression\n",
      "  n_iter_i = _check_optimize_result(\n",
      "[Parallel(n_jobs=-1)]: Done   6 out of   6 | elapsed:   22.3s finished\n",
      "\n",
      "[2023-03-23 23:44:09] Features: 34/39 -- score: 0.978766599923031[Parallel(n_jobs=-1)]: Using backend LokyBackend with 8 concurrent workers.\n",
      "/Users/nancy/miniconda3/envs/bioinfo/lib/python3.10/site-packages/sklearn/linear_model/_logistic.py:814: ConvergenceWarning: lbfgs failed to converge (status=1):\n",
      "STOP: TOTAL NO. of ITERATIONS REACHED LIMIT.\n",
      "\n",
      "Increase the number of iterations (max_iter) or scale the data as shown in:\n",
      "    https://scikit-learn.org/stable/modules/preprocessing.html\n",
      "Please also refer to the documentation for alternative solver options:\n",
      "    https://scikit-learn.org/stable/modules/linear_model.html#logistic-regression\n",
      "  n_iter_i = _check_optimize_result(\n",
      "/Users/nancy/miniconda3/envs/bioinfo/lib/python3.10/site-packages/sklearn/linear_model/_logistic.py:814: ConvergenceWarning: lbfgs failed to converge (status=1):\n",
      "STOP: TOTAL NO. of ITERATIONS REACHED LIMIT.\n",
      "\n",
      "Increase the number of iterations (max_iter) or scale the data as shown in:\n",
      "    https://scikit-learn.org/stable/modules/preprocessing.html\n",
      "Please also refer to the documentation for alternative solver options:\n",
      "    https://scikit-learn.org/stable/modules/linear_model.html#logistic-regression\n",
      "  n_iter_i = _check_optimize_result(\n",
      "/Users/nancy/miniconda3/envs/bioinfo/lib/python3.10/site-packages/sklearn/linear_model/_logistic.py:814: ConvergenceWarning: lbfgs failed to converge (status=1):\n",
      "STOP: TOTAL NO. of ITERATIONS REACHED LIMIT.\n",
      "\n",
      "Increase the number of iterations (max_iter) or scale the data as shown in:\n",
      "    https://scikit-learn.org/stable/modules/preprocessing.html\n",
      "Please also refer to the documentation for alternative solver options:\n",
      "    https://scikit-learn.org/stable/modules/linear_model.html#logistic-regression\n",
      "  n_iter_i = _check_optimize_result(\n",
      "[Parallel(n_jobs=-1)]: Done   2 out of   5 | elapsed:   16.1s remaining:   24.1s\n",
      "/Users/nancy/miniconda3/envs/bioinfo/lib/python3.10/site-packages/sklearn/linear_model/_logistic.py:814: ConvergenceWarning: lbfgs failed to converge (status=1):\n",
      "STOP: TOTAL NO. of ITERATIONS REACHED LIMIT.\n",
      "\n",
      "Increase the number of iterations (max_iter) or scale the data as shown in:\n",
      "    https://scikit-learn.org/stable/modules/preprocessing.html\n",
      "Please also refer to the documentation for alternative solver options:\n",
      "    https://scikit-learn.org/stable/modules/linear_model.html#logistic-regression\n",
      "  n_iter_i = _check_optimize_result(\n",
      "[Parallel(n_jobs=-1)]: Done   5 out of   5 | elapsed:   16.9s remaining:    0.0s\n",
      "[Parallel(n_jobs=-1)]: Done   5 out of   5 | elapsed:   16.9s finished\n",
      "\n",
      "[2023-03-23 23:44:26] Features: 35/39 -- score: 0.9786829379841935[Parallel(n_jobs=-1)]: Using backend LokyBackend with 8 concurrent workers.\n",
      "/Users/nancy/miniconda3/envs/bioinfo/lib/python3.10/site-packages/sklearn/linear_model/_logistic.py:814: ConvergenceWarning: lbfgs failed to converge (status=1):\n",
      "STOP: TOTAL NO. of ITERATIONS REACHED LIMIT.\n",
      "\n",
      "Increase the number of iterations (max_iter) or scale the data as shown in:\n",
      "    https://scikit-learn.org/stable/modules/preprocessing.html\n",
      "Please also refer to the documentation for alternative solver options:\n",
      "    https://scikit-learn.org/stable/modules/linear_model.html#logistic-regression\n",
      "  n_iter_i = _check_optimize_result(\n",
      "/Users/nancy/miniconda3/envs/bioinfo/lib/python3.10/site-packages/sklearn/linear_model/_logistic.py:814: ConvergenceWarning: lbfgs failed to converge (status=1):\n",
      "STOP: TOTAL NO. of ITERATIONS REACHED LIMIT.\n",
      "\n",
      "Increase the number of iterations (max_iter) or scale the data as shown in:\n",
      "    https://scikit-learn.org/stable/modules/preprocessing.html\n",
      "Please also refer to the documentation for alternative solver options:\n",
      "    https://scikit-learn.org/stable/modules/linear_model.html#logistic-regression\n",
      "  n_iter_i = _check_optimize_result(\n",
      "[Parallel(n_jobs=-1)]: Done   4 out of   4 | elapsed:   14.2s remaining:    0.0s\n",
      "[Parallel(n_jobs=-1)]: Done   4 out of   4 | elapsed:   14.2s finished\n",
      "\n",
      "[2023-03-23 23:44:40] Features: 36/39 -- score: 0.9785769661949992[Parallel(n_jobs=-1)]: Using backend LokyBackend with 8 concurrent workers.\n",
      "/Users/nancy/miniconda3/envs/bioinfo/lib/python3.10/site-packages/sklearn/linear_model/_logistic.py:814: ConvergenceWarning: lbfgs failed to converge (status=1):\n",
      "STOP: TOTAL NO. of ITERATIONS REACHED LIMIT.\n",
      "\n",
      "Increase the number of iterations (max_iter) or scale the data as shown in:\n",
      "    https://scikit-learn.org/stable/modules/preprocessing.html\n",
      "Please also refer to the documentation for alternative solver options:\n",
      "    https://scikit-learn.org/stable/modules/linear_model.html#logistic-regression\n",
      "  n_iter_i = _check_optimize_result(\n",
      "/Users/nancy/miniconda3/envs/bioinfo/lib/python3.10/site-packages/sklearn/linear_model/_logistic.py:814: ConvergenceWarning: lbfgs failed to converge (status=1):\n",
      "STOP: TOTAL NO. of ITERATIONS REACHED LIMIT.\n",
      "\n",
      "Increase the number of iterations (max_iter) or scale the data as shown in:\n",
      "    https://scikit-learn.org/stable/modules/preprocessing.html\n",
      "Please also refer to the documentation for alternative solver options:\n",
      "    https://scikit-learn.org/stable/modules/linear_model.html#logistic-regression\n",
      "  n_iter_i = _check_optimize_result(\n",
      "[Parallel(n_jobs=-1)]: Done   3 out of   3 | elapsed:   13.4s finished\n",
      "\n",
      "[2023-03-23 23:44:54] Features: 37/39 -- score: 0.9784012761234404[Parallel(n_jobs=-1)]: Using backend LokyBackend with 8 concurrent workers.\n",
      "/Users/nancy/miniconda3/envs/bioinfo/lib/python3.10/site-packages/sklearn/linear_model/_logistic.py:814: ConvergenceWarning: lbfgs failed to converge (status=1):\n",
      "STOP: TOTAL NO. of ITERATIONS REACHED LIMIT.\n",
      "\n",
      "Increase the number of iterations (max_iter) or scale the data as shown in:\n",
      "    https://scikit-learn.org/stable/modules/preprocessing.html\n",
      "Please also refer to the documentation for alternative solver options:\n",
      "    https://scikit-learn.org/stable/modules/linear_model.html#logistic-regression\n",
      "  n_iter_i = _check_optimize_result(\n",
      "/Users/nancy/miniconda3/envs/bioinfo/lib/python3.10/site-packages/sklearn/linear_model/_logistic.py:814: ConvergenceWarning: lbfgs failed to converge (status=1):\n",
      "STOP: TOTAL NO. of ITERATIONS REACHED LIMIT.\n",
      "\n",
      "Increase the number of iterations (max_iter) or scale the data as shown in:\n",
      "    https://scikit-learn.org/stable/modules/preprocessing.html\n",
      "Please also refer to the documentation for alternative solver options:\n",
      "    https://scikit-learn.org/stable/modules/linear_model.html#logistic-regression\n",
      "  n_iter_i = _check_optimize_result(\n",
      "[Parallel(n_jobs=-1)]: Done   2 out of   2 | elapsed:   13.2s finished\n",
      "\n",
      "[2023-03-23 23:45:07] Features: 38/39 -- score: 0.978242318439649[Parallel(n_jobs=-1)]: Using backend LokyBackend with 8 concurrent workers.\n",
      "/Users/nancy/miniconda3/envs/bioinfo/lib/python3.10/site-packages/sklearn/linear_model/_logistic.py:814: ConvergenceWarning: lbfgs failed to converge (status=1):\n",
      "STOP: TOTAL NO. of ITERATIONS REACHED LIMIT.\n",
      "\n",
      "Increase the number of iterations (max_iter) or scale the data as shown in:\n",
      "    https://scikit-learn.org/stable/modules/preprocessing.html\n",
      "Please also refer to the documentation for alternative solver options:\n",
      "    https://scikit-learn.org/stable/modules/linear_model.html#logistic-regression\n",
      "  n_iter_i = _check_optimize_result(\n",
      "/Users/nancy/miniconda3/envs/bioinfo/lib/python3.10/site-packages/sklearn/linear_model/_logistic.py:814: ConvergenceWarning: lbfgs failed to converge (status=1):\n",
      "STOP: TOTAL NO. of ITERATIONS REACHED LIMIT.\n",
      "\n",
      "Increase the number of iterations (max_iter) or scale the data as shown in:\n",
      "    https://scikit-learn.org/stable/modules/preprocessing.html\n",
      "Please also refer to the documentation for alternative solver options:\n",
      "    https://scikit-learn.org/stable/modules/linear_model.html#logistic-regression\n",
      "  n_iter_i = _check_optimize_result(\n",
      "[Parallel(n_jobs=-1)]: Done   1 out of   1 | elapsed:   13.4s finished\n",
      "\n",
      "[2023-03-23 23:45:20] Features: 39/39 -- score: 0.9782060649328195"
     ]
    }
   ],
   "source": [
    "from mlxtend.feature_selection import SequentialFeatureSelector as SFS\n",
    "\n",
    "# forward\n",
    "## very slow: 71m\n",
    "\n",
    "sfs1 = SFS(logreg, \n",
    "           k_features=39, \n",
    "           forward=True, \n",
    "           floating=False, \n",
    "           verbose=2,\n",
    "           scoring='accuracy',\n",
    "           cv=2,\n",
    "           n_jobs=-1)\n",
    "\n",
    "sfs1 = sfs1.fit(X, y)"
   ]
  },
  {
   "cell_type": "code",
   "execution_count": 45,
   "metadata": {},
   "outputs": [
    {
     "data": {
      "text/html": [
       "<div>\n",
       "<style scoped>\n",
       "    .dataframe tbody tr th:only-of-type {\n",
       "        vertical-align: middle;\n",
       "    }\n",
       "\n",
       "    .dataframe tbody tr th {\n",
       "        vertical-align: top;\n",
       "    }\n",
       "\n",
       "    .dataframe thead th {\n",
       "        text-align: right;\n",
       "    }\n",
       "</style>\n",
       "<table border=\"1\" class=\"dataframe\">\n",
       "  <thead>\n",
       "    <tr style=\"text-align: right;\">\n",
       "      <th></th>\n",
       "      <th>feature_idx</th>\n",
       "      <th>cv_scores</th>\n",
       "      <th>avg_score</th>\n",
       "      <th>feature_names</th>\n",
       "      <th>ci_bound</th>\n",
       "      <th>std_dev</th>\n",
       "      <th>std_err</th>\n",
       "    </tr>\n",
       "  </thead>\n",
       "  <tbody>\n",
       "    <tr>\n",
       "      <th>1</th>\n",
       "      <td>(16,)</td>\n",
       "      <td>[0.9535732014077516, 0.9513310614469054]</td>\n",
       "      <td>0.952452</td>\n",
       "      <td>(16,)</td>\n",
       "      <td>0.004824</td>\n",
       "      <td>0.001121</td>\n",
       "      <td>0.001121</td>\n",
       "    </tr>\n",
       "    <tr>\n",
       "      <th>2</th>\n",
       "      <td>(16, 19)</td>\n",
       "      <td>[0.9623688599108722, 0.9584702135610426]</td>\n",
       "      <td>0.96042</td>\n",
       "      <td>(16, 19)</td>\n",
       "      <td>0.008387</td>\n",
       "      <td>0.001949</td>\n",
       "      <td>0.001949</td>\n",
       "    </tr>\n",
       "    <tr>\n",
       "      <th>3</th>\n",
       "      <td>(0, 16, 19)</td>\n",
       "      <td>[0.9694801247120635, 0.9672100974382715]</td>\n",
       "      <td>0.968345</td>\n",
       "      <td>(0, 16, 19)</td>\n",
       "      <td>0.004884</td>\n",
       "      <td>0.001135</td>\n",
       "      <td>0.001135</td>\n",
       "    </tr>\n",
       "    <tr>\n",
       "      <th>4</th>\n",
       "      <td>(0, 14, 16, 19)</td>\n",
       "      <td>[0.9706904340939133, 0.9684538715956563]</td>\n",
       "      <td>0.969572</td>\n",
       "      <td>(0, 14, 16, 19)</td>\n",
       "      <td>0.004812</td>\n",
       "      <td>0.001118</td>\n",
       "      <td>0.001118</td>\n",
       "    </tr>\n",
       "    <tr>\n",
       "      <th>5</th>\n",
       "      <td>(0, 14, 16, 17, 19)</td>\n",
       "      <td>[0.9712258705024736, 0.9700434484335696]</td>\n",
       "      <td>0.970635</td>\n",
       "      <td>(0, 14, 16, 17, 19)</td>\n",
       "      <td>0.002544</td>\n",
       "      <td>0.000591</td>\n",
       "      <td>0.000591</td>\n",
       "    </tr>\n",
       "    <tr>\n",
       "      <th>6</th>\n",
       "      <td>(0, 8, 14, 16, 17, 19)</td>\n",
       "      <td>[0.9715772506455913, 0.9707629411075726]</td>\n",
       "      <td>0.97117</td>\n",
       "      <td>(0, 8, 14, 16, 17, 19)</td>\n",
       "      <td>0.001752</td>\n",
       "      <td>0.000407</td>\n",
       "      <td>0.000407</td>\n",
       "    </tr>\n",
       "    <tr>\n",
       "      <th>7</th>\n",
       "      <td>(0, 8, 14, 16, 17, 19, 30)</td>\n",
       "      <td>[0.9766638965269141, 0.9758997841521978]</td>\n",
       "      <td>0.976282</td>\n",
       "      <td>(0, 8, 14, 16, 17, 19, 30)</td>\n",
       "      <td>0.001644</td>\n",
       "      <td>0.000382</td>\n",
       "      <td>0.000382</td>\n",
       "    </tr>\n",
       "    <tr>\n",
       "      <th>8</th>\n",
       "      <td>(0, 8, 14, 15, 16, 17, 19, 30)</td>\n",
       "      <td>[0.9772997272620794, 0.9765133050370065]</td>\n",
       "      <td>0.976907</td>\n",
       "      <td>(0, 8, 14, 15, 16, 17, 19, 30)</td>\n",
       "      <td>0.001692</td>\n",
       "      <td>0.000393</td>\n",
       "      <td>0.000393</td>\n",
       "    </tr>\n",
       "    <tr>\n",
       "      <th>9</th>\n",
       "      <td>(0, 8, 14, 15, 16, 17, 19, 28, 30)</td>\n",
       "      <td>[0.9775674454663595, 0.977288572336901]</td>\n",
       "      <td>0.977428</td>\n",
       "      <td>(0, 8, 14, 15, 16, 17, 19, 28, 30)</td>\n",
       "      <td>0.0006</td>\n",
       "      <td>0.000139</td>\n",
       "      <td>0.000139</td>\n",
       "    </tr>\n",
       "    <tr>\n",
       "      <th>10</th>\n",
       "      <td>(0, 2, 8, 14, 15, 16, 17, 19, 28, 30)</td>\n",
       "      <td>[0.9779411354598339, 0.9774893609901112]</td>\n",
       "      <td>0.977715</td>\n",
       "      <td>(0, 2, 8, 14, 15, 16, 17, 19, 28, 30)</td>\n",
       "      <td>0.000972</td>\n",
       "      <td>0.000226</td>\n",
       "      <td>0.000226</td>\n",
       "    </tr>\n",
       "    <tr>\n",
       "      <th>11</th>\n",
       "      <td>(0, 2, 8, 14, 15, 16, 17, 19, 28, 30, 38)</td>\n",
       "      <td>[0.978074994561974, 0.9778909382965314]</td>\n",
       "      <td>0.977983</td>\n",
       "      <td>(0, 2, 8, 14, 15, 16, 17, 19, 28, 30, 38)</td>\n",
       "      <td>0.000396</td>\n",
       "      <td>0.000092</td>\n",
       "      <td>0.000092</td>\n",
       "    </tr>\n",
       "    <tr>\n",
       "      <th>12</th>\n",
       "      <td>(0, 2, 8, 14, 15, 16, 17, 19, 28, 30, 35, 38)</td>\n",
       "      <td>[0.9780638396367957, 0.9781140368000981]</td>\n",
       "      <td>0.978089</td>\n",
       "      <td>(0, 2, 8, 14, 15, 16, 17, 19, 28, 30, 35, 38)</td>\n",
       "      <td>0.000108</td>\n",
       "      <td>0.000025</td>\n",
       "      <td>0.000025</td>\n",
       "    </tr>\n",
       "    <tr>\n",
       "      <th>13</th>\n",
       "      <td>(0, 2, 8, 14, 15, 16, 17, 18, 19, 28, 30, 35, 38)</td>\n",
       "      <td>[0.978208853664114, 0.9781921212763466]</td>\n",
       "      <td>0.9782</td>\n",
       "      <td>(0, 2, 8, 14, 15, 16, 17, 18, 19, 28, 30, 35, 38)</td>\n",
       "      <td>0.000036</td>\n",
       "      <td>0.000008</td>\n",
       "      <td>0.000008</td>\n",
       "    </tr>\n",
       "    <tr>\n",
       "      <th>14</th>\n",
       "      <td>(0, 2, 8, 14, 15, 16, 17, 18, 19, 22, 28, 30, ...</td>\n",
       "      <td>[0.9783036705281299, 0.9782478959022383]</td>\n",
       "      <td>0.978276</td>\n",
       "      <td>(0, 2, 8, 14, 15, 16, 17, 18, 19, 22, 28, 30, ...</td>\n",
       "      <td>0.00012</td>\n",
       "      <td>0.000028</td>\n",
       "      <td>0.000028</td>\n",
       "    </tr>\n",
       "    <tr>\n",
       "      <th>15</th>\n",
       "      <td>(0, 2, 8, 11, 14, 15, 16, 17, 18, 19, 22, 28, ...</td>\n",
       "      <td>[0.9783984873921459, 0.9782646282900057]</td>\n",
       "      <td>0.978332</td>\n",
       "      <td>(0, 2, 8, 11, 14, 15, 16, 17, 18, 19, 22, 28, ...</td>\n",
       "      <td>0.000288</td>\n",
       "      <td>0.000067</td>\n",
       "      <td>0.000067</td>\n",
       "    </tr>\n",
       "    <tr>\n",
       "      <th>16</th>\n",
       "      <td>(0, 1, 2, 8, 11, 14, 15, 16, 17, 18, 19, 22, 2...</td>\n",
       "      <td>[0.9786160084331235, 0.9781642339634007]</td>\n",
       "      <td>0.97839</td>\n",
       "      <td>(0, 1, 2, 8, 11, 14, 15, 16, 17, 18, 19, 22, 2...</td>\n",
       "      <td>0.000972</td>\n",
       "      <td>0.000226</td>\n",
       "      <td>0.000226</td>\n",
       "    </tr>\n",
       "    <tr>\n",
       "      <th>17</th>\n",
       "      <td>(0, 1, 2, 8, 11, 14, 15, 16, 17, 18, 19, 22, 2...</td>\n",
       "      <td>[0.9787554449978527, 0.9782925156029516]</td>\n",
       "      <td>0.978524</td>\n",
       "      <td>(0, 1, 2, 8, 11, 14, 15, 16, 17, 18, 19, 22, 2...</td>\n",
       "      <td>0.000996</td>\n",
       "      <td>0.000231</td>\n",
       "      <td>0.000231</td>\n",
       "    </tr>\n",
       "    <tr>\n",
       "      <th>18</th>\n",
       "      <td>(0, 1, 2, 8, 11, 14, 15, 16, 17, 18, 19, 22, 2...</td>\n",
       "      <td>[0.978733135147496, 0.978404064854735]</td>\n",
       "      <td>0.978569</td>\n",
       "      <td>(0, 1, 2, 8, 11, 14, 15, 16, 17, 18, 19, 22, 2...</td>\n",
       "      <td>0.000708</td>\n",
       "      <td>0.000165</td>\n",
       "      <td>0.000165</td>\n",
       "    </tr>\n",
       "    <tr>\n",
       "      <th>19</th>\n",
       "      <td>(0, 1, 2, 8, 11, 14, 15, 16, 17, 18, 19, 22, 2...</td>\n",
       "      <td>[0.9787721773856202, 0.9785490788820534]</td>\n",
       "      <td>0.978661</td>\n",
       "      <td>(0, 1, 2, 8, 11, 14, 15, 16, 17, 18, 19, 22, 2...</td>\n",
       "      <td>0.00048</td>\n",
       "      <td>0.000112</td>\n",
       "      <td>0.000112</td>\n",
       "    </tr>\n",
       "    <tr>\n",
       "      <th>20</th>\n",
       "      <td>(0, 1, 2, 8, 11, 14, 15, 16, 17, 18, 19, 20, 2...</td>\n",
       "      <td>[0.9788056421611552, 0.9785992760453559]</td>\n",
       "      <td>0.978702</td>\n",
       "      <td>(0, 1, 2, 8, 11, 14, 15, 16, 17, 18, 19, 20, 2...</td>\n",
       "      <td>0.000444</td>\n",
       "      <td>0.000103</td>\n",
       "      <td>0.000103</td>\n",
       "    </tr>\n",
       "    <tr>\n",
       "      <th>21</th>\n",
       "      <td>(0, 1, 2, 8, 11, 14, 15, 16, 17, 18, 19, 20, 2...</td>\n",
       "      <td>[0.9789227688755278, 0.9785267690316968]</td>\n",
       "      <td>0.978725</td>\n",
       "      <td>(0, 1, 2, 8, 11, 14, 15, 16, 17, 18, 19, 20, 2...</td>\n",
       "      <td>0.000852</td>\n",
       "      <td>0.000198</td>\n",
       "      <td>0.000198</td>\n",
       "    </tr>\n",
       "    <tr>\n",
       "      <th>22</th>\n",
       "      <td>(0, 1, 2, 8, 11, 14, 15, 16, 17, 18, 19, 20, 2...</td>\n",
       "      <td>[0.9789450787258844, 0.9786773605216043]</td>\n",
       "      <td>0.978811</td>\n",
       "      <td>(0, 1, 2, 8, 11, 14, 15, 16, 17, 18, 19, 20, 2...</td>\n",
       "      <td>0.000576</td>\n",
       "      <td>0.000134</td>\n",
       "      <td>0.000134</td>\n",
       "    </tr>\n",
       "    <tr>\n",
       "      <th>23</th>\n",
       "      <td>(0, 1, 2, 8, 10, 11, 14, 15, 16, 17, 18, 19, 2...</td>\n",
       "      <td>[0.978928346338117, 0.9786996703719609]</td>\n",
       "      <td>0.978814</td>\n",
       "      <td>(0, 1, 2, 8, 10, 11, 14, 15, 16, 17, 18, 19, 2...</td>\n",
       "      <td>0.000492</td>\n",
       "      <td>0.000114</td>\n",
       "      <td>0.000114</td>\n",
       "    </tr>\n",
       "    <tr>\n",
       "      <th>24</th>\n",
       "      <td>(0, 1, 2, 8, 10, 11, 14, 15, 16, 17, 18, 19, 2...</td>\n",
       "      <td>[0.9789227688755278, 0.9786717830590151]</td>\n",
       "      <td>0.978797</td>\n",
       "      <td>(0, 1, 2, 8, 10, 11, 14, 15, 16, 17, 18, 19, 2...</td>\n",
       "      <td>0.00054</td>\n",
       "      <td>0.000125</td>\n",
       "      <td>0.000125</td>\n",
       "    </tr>\n",
       "    <tr>\n",
       "      <th>25</th>\n",
       "      <td>(0, 1, 2, 8, 10, 11, 14, 15, 16, 17, 18, 19, 2...</td>\n",
       "      <td>[0.9789227688755278, 0.9786550506712476]</td>\n",
       "      <td>0.978789</td>\n",
       "      <td>(0, 1, 2, 8, 10, 11, 14, 15, 16, 17, 18, 19, 2...</td>\n",
       "      <td>0.000576</td>\n",
       "      <td>0.000134</td>\n",
       "      <td>0.000134</td>\n",
       "    </tr>\n",
       "    <tr>\n",
       "      <th>26</th>\n",
       "      <td>(0, 1, 2, 8, 10, 11, 13, 14, 15, 16, 17, 18, 1...</td>\n",
       "      <td>[0.9789450787258844, 0.9785769661949992]</td>\n",
       "      <td>0.978761</td>\n",
       "      <td>(0, 1, 2, 8, 10, 11, 13, 14, 15, 16, 17, 18, 1...</td>\n",
       "      <td>0.000792</td>\n",
       "      <td>0.000184</td>\n",
       "      <td>0.000184</td>\n",
       "    </tr>\n",
       "    <tr>\n",
       "      <th>27</th>\n",
       "      <td>(0, 1, 2, 8, 10, 11, 13, 14, 15, 16, 17, 18, 1...</td>\n",
       "      <td>[0.9788391069366902, 0.9786829379841935]</td>\n",
       "      <td>0.978761</td>\n",
       "      <td>(0, 1, 2, 8, 10, 11, 13, 14, 15, 16, 17, 18, 1...</td>\n",
       "      <td>0.000336</td>\n",
       "      <td>0.000078</td>\n",
       "      <td>0.000078</td>\n",
       "    </tr>\n",
       "    <tr>\n",
       "      <th>28</th>\n",
       "      <td>(0, 1, 2, 8, 10, 11, 13, 14, 15, 16, 17, 18, 1...</td>\n",
       "      <td>[0.9788335294741011, 0.9788167970863335]</td>\n",
       "      <td>0.978825</td>\n",
       "      <td>(0, 1, 2, 8, 10, 11, 13, 14, 15, 16, 17, 18, 1...</td>\n",
       "      <td>0.000036</td>\n",
       "      <td>0.000008</td>\n",
       "      <td>0.000008</td>\n",
       "    </tr>\n",
       "    <tr>\n",
       "      <th>29</th>\n",
       "      <td>(0, 1, 2, 8, 10, 11, 13, 14, 15, 16, 17, 18, 1...</td>\n",
       "      <td>[0.9788725717122252, 0.9788446843992794]</td>\n",
       "      <td>0.978859</td>\n",
       "      <td>(0, 1, 2, 8, 10, 11, 13, 14, 15, 16, 17, 18, 1...</td>\n",
       "      <td>0.00006</td>\n",
       "      <td>0.000014</td>\n",
       "      <td>0.000014</td>\n",
       "    </tr>\n",
       "    <tr>\n",
       "      <th>30</th>\n",
       "      <td>(0, 1, 2, 8, 10, 11, 12, 13, 14, 15, 16, 17, 1...</td>\n",
       "      <td>[0.9788614167870469, 0.9788558393244577]</td>\n",
       "      <td>0.978859</td>\n",
       "      <td>(0, 1, 2, 8, 10, 11, 12, 13, 14, 15, 16, 17, 1...</td>\n",
       "      <td>0.000012</td>\n",
       "      <td>0.000003</td>\n",
       "      <td>0.000003</td>\n",
       "    </tr>\n",
       "    <tr>\n",
       "      <th>31</th>\n",
       "      <td>(0, 1, 2, 3, 8, 10, 11, 12, 13, 14, 15, 16, 17...</td>\n",
       "      <td>[0.9788781491748144, 0.9788502618618685]</td>\n",
       "      <td>0.978864</td>\n",
       "      <td>(0, 1, 2, 3, 8, 10, 11, 12, 13, 14, 15, 16, 17...</td>\n",
       "      <td>0.00006</td>\n",
       "      <td>0.000014</td>\n",
       "      <td>0.000014</td>\n",
       "    </tr>\n",
       "    <tr>\n",
       "      <th>32</th>\n",
       "      <td>(0, 1, 2, 3, 7, 8, 10, 11, 12, 13, 14, 15, 16,...</td>\n",
       "      <td>[0.9789171914129386, 0.9787554449978527]</td>\n",
       "      <td>0.978836</td>\n",
       "      <td>(0, 1, 2, 3, 7, 8, 10, 11, 12, 13, 14, 15, 16,...</td>\n",
       "      <td>0.000348</td>\n",
       "      <td>0.000081</td>\n",
       "      <td>0.000081</td>\n",
       "    </tr>\n",
       "    <tr>\n",
       "      <th>33</th>\n",
       "      <td>(0, 1, 2, 3, 6, 7, 8, 10, 11, 12, 13, 14, 15, ...</td>\n",
       "      <td>[0.9788669942496361, 0.9787498675352635]</td>\n",
       "      <td>0.978808</td>\n",
       "      <td>(0, 1, 2, 3, 6, 7, 8, 10, 11, 12, 13, 14, 15, ...</td>\n",
       "      <td>0.000252</td>\n",
       "      <td>0.000059</td>\n",
       "      <td>0.000059</td>\n",
       "    </tr>\n",
       "    <tr>\n",
       "      <th>34</th>\n",
       "      <td>(0, 1, 2, 3, 4, 6, 7, 8, 10, 11, 12, 13, 14, 1...</td>\n",
       "      <td>[0.9788112196237444, 0.9787219802223177]</td>\n",
       "      <td>0.978767</td>\n",
       "      <td>(0, 1, 2, 3, 4, 6, 7, 8, 10, 11, 12, 13, 14, 1...</td>\n",
       "      <td>0.000192</td>\n",
       "      <td>0.000045</td>\n",
       "      <td>0.000045</td>\n",
       "    </tr>\n",
       "    <tr>\n",
       "      <th>35</th>\n",
       "      <td>(0, 1, 2, 3, 4, 6, 7, 8, 10, 11, 12, 13, 14, 1...</td>\n",
       "      <td>[0.9788000646985661, 0.9785658112698209]</td>\n",
       "      <td>0.978683</td>\n",
       "      <td>(0, 1, 2, 3, 4, 6, 7, 8, 10, 11, 12, 13, 14, 1...</td>\n",
       "      <td>0.000504</td>\n",
       "      <td>0.000117</td>\n",
       "      <td>0.000117</td>\n",
       "    </tr>\n",
       "    <tr>\n",
       "      <th>36</th>\n",
       "      <td>(0, 1, 2, 3, 4, 6, 7, 8, 10, 11, 12, 13, 14, 1...</td>\n",
       "      <td>[0.9786160084331235, 0.9785379239568751]</td>\n",
       "      <td>0.978577</td>\n",
       "      <td>(0, 1, 2, 3, 4, 6, 7, 8, 10, 11, 12, 13, 14, 1...</td>\n",
       "      <td>0.000168</td>\n",
       "      <td>0.000039</td>\n",
       "      <td>0.000039</td>\n",
       "    </tr>\n",
       "    <tr>\n",
       "      <th>37</th>\n",
       "      <td>(0, 1, 2, 3, 4, 6, 7, 8, 10, 11, 12, 13, 14, 1...</td>\n",
       "      <td>[0.9783259803784866, 0.9784765718683942]</td>\n",
       "      <td>0.978401</td>\n",
       "      <td>(0, 1, 2, 3, 4, 6, 7, 8, 10, 11, 12, 13, 14, 1...</td>\n",
       "      <td>0.000324</td>\n",
       "      <td>0.000075</td>\n",
       "      <td>0.000075</td>\n",
       "    </tr>\n",
       "    <tr>\n",
       "      <th>38</th>\n",
       "      <td>(0, 1, 2, 3, 4, 5, 6, 7, 8, 10, 11, 12, 13, 14...</td>\n",
       "      <td>[0.9783204029158974, 0.9781642339634007]</td>\n",
       "      <td>0.978242</td>\n",
       "      <td>(0, 1, 2, 3, 4, 5, 6, 7, 8, 10, 11, 12, 13, 14...</td>\n",
       "      <td>0.000336</td>\n",
       "      <td>0.000078</td>\n",
       "      <td>0.000078</td>\n",
       "    </tr>\n",
       "    <tr>\n",
       "      <th>39</th>\n",
       "      <td>(0, 1, 2, 3, 4, 5, 6, 7, 8, 9, 10, 11, 12, 13,...</td>\n",
       "      <td>[0.9782200085892924, 0.9781921212763466]</td>\n",
       "      <td>0.978206</td>\n",
       "      <td>(0, 1, 2, 3, 4, 5, 6, 7, 8, 9, 10, 11, 12, 13,...</td>\n",
       "      <td>0.00006</td>\n",
       "      <td>0.000014</td>\n",
       "      <td>0.000014</td>\n",
       "    </tr>\n",
       "  </tbody>\n",
       "</table>\n",
       "</div>"
      ],
      "text/plain": [
       "                                          feature_idx  \\\n",
       "1                                               (16,)   \n",
       "2                                            (16, 19)   \n",
       "3                                         (0, 16, 19)   \n",
       "4                                     (0, 14, 16, 19)   \n",
       "5                                 (0, 14, 16, 17, 19)   \n",
       "6                              (0, 8, 14, 16, 17, 19)   \n",
       "7                          (0, 8, 14, 16, 17, 19, 30)   \n",
       "8                      (0, 8, 14, 15, 16, 17, 19, 30)   \n",
       "9                  (0, 8, 14, 15, 16, 17, 19, 28, 30)   \n",
       "10              (0, 2, 8, 14, 15, 16, 17, 19, 28, 30)   \n",
       "11          (0, 2, 8, 14, 15, 16, 17, 19, 28, 30, 38)   \n",
       "12      (0, 2, 8, 14, 15, 16, 17, 19, 28, 30, 35, 38)   \n",
       "13  (0, 2, 8, 14, 15, 16, 17, 18, 19, 28, 30, 35, 38)   \n",
       "14  (0, 2, 8, 14, 15, 16, 17, 18, 19, 22, 28, 30, ...   \n",
       "15  (0, 2, 8, 11, 14, 15, 16, 17, 18, 19, 22, 28, ...   \n",
       "16  (0, 1, 2, 8, 11, 14, 15, 16, 17, 18, 19, 22, 2...   \n",
       "17  (0, 1, 2, 8, 11, 14, 15, 16, 17, 18, 19, 22, 2...   \n",
       "18  (0, 1, 2, 8, 11, 14, 15, 16, 17, 18, 19, 22, 2...   \n",
       "19  (0, 1, 2, 8, 11, 14, 15, 16, 17, 18, 19, 22, 2...   \n",
       "20  (0, 1, 2, 8, 11, 14, 15, 16, 17, 18, 19, 20, 2...   \n",
       "21  (0, 1, 2, 8, 11, 14, 15, 16, 17, 18, 19, 20, 2...   \n",
       "22  (0, 1, 2, 8, 11, 14, 15, 16, 17, 18, 19, 20, 2...   \n",
       "23  (0, 1, 2, 8, 10, 11, 14, 15, 16, 17, 18, 19, 2...   \n",
       "24  (0, 1, 2, 8, 10, 11, 14, 15, 16, 17, 18, 19, 2...   \n",
       "25  (0, 1, 2, 8, 10, 11, 14, 15, 16, 17, 18, 19, 2...   \n",
       "26  (0, 1, 2, 8, 10, 11, 13, 14, 15, 16, 17, 18, 1...   \n",
       "27  (0, 1, 2, 8, 10, 11, 13, 14, 15, 16, 17, 18, 1...   \n",
       "28  (0, 1, 2, 8, 10, 11, 13, 14, 15, 16, 17, 18, 1...   \n",
       "29  (0, 1, 2, 8, 10, 11, 13, 14, 15, 16, 17, 18, 1...   \n",
       "30  (0, 1, 2, 8, 10, 11, 12, 13, 14, 15, 16, 17, 1...   \n",
       "31  (0, 1, 2, 3, 8, 10, 11, 12, 13, 14, 15, 16, 17...   \n",
       "32  (0, 1, 2, 3, 7, 8, 10, 11, 12, 13, 14, 15, 16,...   \n",
       "33  (0, 1, 2, 3, 6, 7, 8, 10, 11, 12, 13, 14, 15, ...   \n",
       "34  (0, 1, 2, 3, 4, 6, 7, 8, 10, 11, 12, 13, 14, 1...   \n",
       "35  (0, 1, 2, 3, 4, 6, 7, 8, 10, 11, 12, 13, 14, 1...   \n",
       "36  (0, 1, 2, 3, 4, 6, 7, 8, 10, 11, 12, 13, 14, 1...   \n",
       "37  (0, 1, 2, 3, 4, 6, 7, 8, 10, 11, 12, 13, 14, 1...   \n",
       "38  (0, 1, 2, 3, 4, 5, 6, 7, 8, 10, 11, 12, 13, 14...   \n",
       "39  (0, 1, 2, 3, 4, 5, 6, 7, 8, 9, 10, 11, 12, 13,...   \n",
       "\n",
       "                                   cv_scores avg_score  \\\n",
       "1   [0.9535732014077516, 0.9513310614469054]  0.952452   \n",
       "2   [0.9623688599108722, 0.9584702135610426]   0.96042   \n",
       "3   [0.9694801247120635, 0.9672100974382715]  0.968345   \n",
       "4   [0.9706904340939133, 0.9684538715956563]  0.969572   \n",
       "5   [0.9712258705024736, 0.9700434484335696]  0.970635   \n",
       "6   [0.9715772506455913, 0.9707629411075726]   0.97117   \n",
       "7   [0.9766638965269141, 0.9758997841521978]  0.976282   \n",
       "8   [0.9772997272620794, 0.9765133050370065]  0.976907   \n",
       "9    [0.9775674454663595, 0.977288572336901]  0.977428   \n",
       "10  [0.9779411354598339, 0.9774893609901112]  0.977715   \n",
       "11   [0.978074994561974, 0.9778909382965314]  0.977983   \n",
       "12  [0.9780638396367957, 0.9781140368000981]  0.978089   \n",
       "13   [0.978208853664114, 0.9781921212763466]    0.9782   \n",
       "14  [0.9783036705281299, 0.9782478959022383]  0.978276   \n",
       "15  [0.9783984873921459, 0.9782646282900057]  0.978332   \n",
       "16  [0.9786160084331235, 0.9781642339634007]   0.97839   \n",
       "17  [0.9787554449978527, 0.9782925156029516]  0.978524   \n",
       "18    [0.978733135147496, 0.978404064854735]  0.978569   \n",
       "19  [0.9787721773856202, 0.9785490788820534]  0.978661   \n",
       "20  [0.9788056421611552, 0.9785992760453559]  0.978702   \n",
       "21  [0.9789227688755278, 0.9785267690316968]  0.978725   \n",
       "22  [0.9789450787258844, 0.9786773605216043]  0.978811   \n",
       "23   [0.978928346338117, 0.9786996703719609]  0.978814   \n",
       "24  [0.9789227688755278, 0.9786717830590151]  0.978797   \n",
       "25  [0.9789227688755278, 0.9786550506712476]  0.978789   \n",
       "26  [0.9789450787258844, 0.9785769661949992]  0.978761   \n",
       "27  [0.9788391069366902, 0.9786829379841935]  0.978761   \n",
       "28  [0.9788335294741011, 0.9788167970863335]  0.978825   \n",
       "29  [0.9788725717122252, 0.9788446843992794]  0.978859   \n",
       "30  [0.9788614167870469, 0.9788558393244577]  0.978859   \n",
       "31  [0.9788781491748144, 0.9788502618618685]  0.978864   \n",
       "32  [0.9789171914129386, 0.9787554449978527]  0.978836   \n",
       "33  [0.9788669942496361, 0.9787498675352635]  0.978808   \n",
       "34  [0.9788112196237444, 0.9787219802223177]  0.978767   \n",
       "35  [0.9788000646985661, 0.9785658112698209]  0.978683   \n",
       "36  [0.9786160084331235, 0.9785379239568751]  0.978577   \n",
       "37  [0.9783259803784866, 0.9784765718683942]  0.978401   \n",
       "38  [0.9783204029158974, 0.9781642339634007]  0.978242   \n",
       "39  [0.9782200085892924, 0.9781921212763466]  0.978206   \n",
       "\n",
       "                                        feature_names  ci_bound   std_dev  \\\n",
       "1                                               (16,)  0.004824  0.001121   \n",
       "2                                            (16, 19)  0.008387  0.001949   \n",
       "3                                         (0, 16, 19)  0.004884  0.001135   \n",
       "4                                     (0, 14, 16, 19)  0.004812  0.001118   \n",
       "5                                 (0, 14, 16, 17, 19)  0.002544  0.000591   \n",
       "6                              (0, 8, 14, 16, 17, 19)  0.001752  0.000407   \n",
       "7                          (0, 8, 14, 16, 17, 19, 30)  0.001644  0.000382   \n",
       "8                      (0, 8, 14, 15, 16, 17, 19, 30)  0.001692  0.000393   \n",
       "9                  (0, 8, 14, 15, 16, 17, 19, 28, 30)    0.0006  0.000139   \n",
       "10              (0, 2, 8, 14, 15, 16, 17, 19, 28, 30)  0.000972  0.000226   \n",
       "11          (0, 2, 8, 14, 15, 16, 17, 19, 28, 30, 38)  0.000396  0.000092   \n",
       "12      (0, 2, 8, 14, 15, 16, 17, 19, 28, 30, 35, 38)  0.000108  0.000025   \n",
       "13  (0, 2, 8, 14, 15, 16, 17, 18, 19, 28, 30, 35, 38)  0.000036  0.000008   \n",
       "14  (0, 2, 8, 14, 15, 16, 17, 18, 19, 22, 28, 30, ...   0.00012  0.000028   \n",
       "15  (0, 2, 8, 11, 14, 15, 16, 17, 18, 19, 22, 28, ...  0.000288  0.000067   \n",
       "16  (0, 1, 2, 8, 11, 14, 15, 16, 17, 18, 19, 22, 2...  0.000972  0.000226   \n",
       "17  (0, 1, 2, 8, 11, 14, 15, 16, 17, 18, 19, 22, 2...  0.000996  0.000231   \n",
       "18  (0, 1, 2, 8, 11, 14, 15, 16, 17, 18, 19, 22, 2...  0.000708  0.000165   \n",
       "19  (0, 1, 2, 8, 11, 14, 15, 16, 17, 18, 19, 22, 2...   0.00048  0.000112   \n",
       "20  (0, 1, 2, 8, 11, 14, 15, 16, 17, 18, 19, 20, 2...  0.000444  0.000103   \n",
       "21  (0, 1, 2, 8, 11, 14, 15, 16, 17, 18, 19, 20, 2...  0.000852  0.000198   \n",
       "22  (0, 1, 2, 8, 11, 14, 15, 16, 17, 18, 19, 20, 2...  0.000576  0.000134   \n",
       "23  (0, 1, 2, 8, 10, 11, 14, 15, 16, 17, 18, 19, 2...  0.000492  0.000114   \n",
       "24  (0, 1, 2, 8, 10, 11, 14, 15, 16, 17, 18, 19, 2...   0.00054  0.000125   \n",
       "25  (0, 1, 2, 8, 10, 11, 14, 15, 16, 17, 18, 19, 2...  0.000576  0.000134   \n",
       "26  (0, 1, 2, 8, 10, 11, 13, 14, 15, 16, 17, 18, 1...  0.000792  0.000184   \n",
       "27  (0, 1, 2, 8, 10, 11, 13, 14, 15, 16, 17, 18, 1...  0.000336  0.000078   \n",
       "28  (0, 1, 2, 8, 10, 11, 13, 14, 15, 16, 17, 18, 1...  0.000036  0.000008   \n",
       "29  (0, 1, 2, 8, 10, 11, 13, 14, 15, 16, 17, 18, 1...   0.00006  0.000014   \n",
       "30  (0, 1, 2, 8, 10, 11, 12, 13, 14, 15, 16, 17, 1...  0.000012  0.000003   \n",
       "31  (0, 1, 2, 3, 8, 10, 11, 12, 13, 14, 15, 16, 17...   0.00006  0.000014   \n",
       "32  (0, 1, 2, 3, 7, 8, 10, 11, 12, 13, 14, 15, 16,...  0.000348  0.000081   \n",
       "33  (0, 1, 2, 3, 6, 7, 8, 10, 11, 12, 13, 14, 15, ...  0.000252  0.000059   \n",
       "34  (0, 1, 2, 3, 4, 6, 7, 8, 10, 11, 12, 13, 14, 1...  0.000192  0.000045   \n",
       "35  (0, 1, 2, 3, 4, 6, 7, 8, 10, 11, 12, 13, 14, 1...  0.000504  0.000117   \n",
       "36  (0, 1, 2, 3, 4, 6, 7, 8, 10, 11, 12, 13, 14, 1...  0.000168  0.000039   \n",
       "37  (0, 1, 2, 3, 4, 6, 7, 8, 10, 11, 12, 13, 14, 1...  0.000324  0.000075   \n",
       "38  (0, 1, 2, 3, 4, 5, 6, 7, 8, 10, 11, 12, 13, 14...  0.000336  0.000078   \n",
       "39  (0, 1, 2, 3, 4, 5, 6, 7, 8, 9, 10, 11, 12, 13,...   0.00006  0.000014   \n",
       "\n",
       "     std_err  \n",
       "1   0.001121  \n",
       "2   0.001949  \n",
       "3   0.001135  \n",
       "4   0.001118  \n",
       "5   0.000591  \n",
       "6   0.000407  \n",
       "7   0.000382  \n",
       "8   0.000393  \n",
       "9   0.000139  \n",
       "10  0.000226  \n",
       "11  0.000092  \n",
       "12  0.000025  \n",
       "13  0.000008  \n",
       "14  0.000028  \n",
       "15  0.000067  \n",
       "16  0.000226  \n",
       "17  0.000231  \n",
       "18  0.000165  \n",
       "19  0.000112  \n",
       "20  0.000103  \n",
       "21  0.000198  \n",
       "22  0.000134  \n",
       "23  0.000114  \n",
       "24  0.000125  \n",
       "25  0.000134  \n",
       "26  0.000184  \n",
       "27  0.000078  \n",
       "28  0.000008  \n",
       "29  0.000014  \n",
       "30  0.000003  \n",
       "31  0.000014  \n",
       "32  0.000081  \n",
       "33  0.000059  \n",
       "34  0.000045  \n",
       "35  0.000117  \n",
       "36  0.000039  \n",
       "37  0.000075  \n",
       "38  0.000078  \n",
       "39  0.000014  "
      ]
     },
     "execution_count": 45,
     "metadata": {},
     "output_type": "execute_result"
    }
   ],
   "source": [
    "df_sfs_logistic = pd.DataFrame.from_dict(sfs1.get_metric_dict()).T\n",
    "df_sfs_logistic"
   ]
  },
  {
   "cell_type": "code",
   "execution_count": 44,
   "metadata": {},
   "outputs": [],
   "source": [
    "df_sfs_logistic.to_csv('/Users/nancy/Desktop/RS_projects/data/03_ML/01_feature/02_sfs_logistic.csv')"
   ]
  },
  {
   "cell_type": "code",
   "execution_count": 115,
   "metadata": {},
   "outputs": [
    {
     "data": {
      "image/png": "[encoded data removed]",
      "text/plain": [
       "<Figure size 640x480 with 1 Axes>"
      ]
     },
     "metadata": {},
     "output_type": "display_data"
    }
   ],
   "source": [
    "from mlxtend.plotting import plot_sequential_feature_selection as plot_sfs\n",
    "\n",
    "fig1 = plot_sfs(sfs1.get_metric_dict(), kind='std_dev')\n",
    "\n",
    "plt.ylim([0.95, 0.981])\n",
    "plt.title('Sequential Forward Selection from Logistic Regression')\n",
    "plt.xticks(rotation=90)\n",
    "plt.grid()\n",
    "# plt.show()\n",
    "plt.show()"
   ]
  },
  {
   "cell_type": "code",
   "execution_count": 116,
   "metadata": {},
   "outputs": [
    {
     "data": {
      "image/png": "[encoded data removed]",
      "text/plain": [
       "<Figure size 640x480 with 1 Axes>"
      ]
     },
     "metadata": {},
     "output_type": "display_data"
    }
   ],
   "source": [
    "from mlxtend.plotting import plot_sequential_feature_selection as plot_sfs\n",
    "\n",
    "fig1 = plot_sfs(sfs1.get_metric_dict(), kind='std_dev')\n",
    "\n",
    "plt.ylim([0.975, 0.981])\n",
    "plt.title('Sequential Forward Selection from Logistic Regression')\n",
    "plt.xticks(rotation=90)\n",
    "plt.grid()\n",
    "plt.show()"
   ]
  },
  {
   "cell_type": "code",
   "execution_count": 71,
   "metadata": {},
   "outputs": [
    {
     "data": {
      "text/plain": [
       "{'feature_idx': (0, 8, 14, 16, 17, 19, 30),\n",
       " 'cv_scores': array([0.9766639 , 0.97589978]),\n",
       " 'avg_score': 0.9762818403395559,\n",
       " 'feature_names': ('0', '8', '14', '16', '17', '19', '30')}"
      ]
     },
     "execution_count": 71,
     "metadata": {},
     "output_type": "execute_result"
    }
   ],
   "source": [
    "# got subset details\n",
    "# \n",
    "sfs1.subsets_ [7]     "
   ]
  },
  {
   "cell_type": "code",
   "execution_count": 72,
   "metadata": {},
   "outputs": [
    {
     "data": {
      "text/plain": [
       "{'feature_idx': (0, 8, 14, 15, 16, 17, 19, 30),\n",
       " 'cv_scores': array([0.97729973, 0.97651331]),\n",
       " 'avg_score': 0.9769065161495429,\n",
       " 'feature_names': ('0', '8', '14', '15', '16', '17', '19', '30')}"
      ]
     },
     "execution_count": 72,
     "metadata": {},
     "output_type": "execute_result"
    }
   ],
   "source": [
    "sfs1.subsets_ [8] "
   ]
  },
  {
   "cell_type": "code",
   "execution_count": 73,
   "metadata": {},
   "outputs": [
    {
     "data": {
      "text/plain": [
       "{'feature_idx': (0, 8, 14, 15, 16, 17, 19, 28, 30),\n",
       " 'cv_scores': array([0.97756745, 0.97728857]),\n",
       " 'avg_score': 0.9774280089016303,\n",
       " 'feature_names': ('0', '8', '14', '15', '16', '17', '19', '28', '30')}"
      ]
     },
     "execution_count": 73,
     "metadata": {},
     "output_type": "execute_result"
    }
   ],
   "source": [
    "sfs1.subsets_ [9] "
   ]
  },
  {
   "cell_type": "code",
   "execution_count": 74,
   "metadata": {},
   "outputs": [
    {
     "data": {
      "text/plain": [
       "{'feature_idx': (0, 2, 8, 14, 15, 16, 17, 19, 28, 30),\n",
       " 'cv_scores': array([0.97794114, 0.97748936]),\n",
       " 'avg_score': 0.9777152482249725,\n",
       " 'feature_names': ('0', '2', '8', '14', '15', '16', '17', '19', '28', '30')}"
      ]
     },
     "execution_count": 74,
     "metadata": {},
     "output_type": "execute_result"
    }
   ],
   "source": [
    "sfs1.subsets_ [10] "
   ]
  },
  {
   "cell_type": "code",
   "execution_count": 81,
   "metadata": {},
   "outputs": [
    {
     "data": {
      "text/plain": [
       "(0, 2, 8, 14, 15, 16, 17, 19, 28, 30, 38)"
      ]
     },
     "execution_count": 81,
     "metadata": {},
     "output_type": "execute_result"
    }
   ],
   "source": [
    "sfs1.subsets_ [11]['feature_idx']"
   ]
  },
  {
   "cell_type": "code",
   "execution_count": null,
   "metadata": {},
   "outputs": [],
   "source": [
    "## get the features name with index     in dic\n",
    "feature_names = data.columns[1:]\n",
    "dic_f=dict(enumerate(feature_names))\n",
    "dic_f"
   ]
  },
  {
   "cell_type": "code",
   "execution_count": 114,
   "metadata": {},
   "outputs": [
    {
     "data": {
      "text/plain": [
       "[['Consequence',\n",
       "  'REVEL_score_NAN',\n",
       "  'ORIGIN_4',\n",
       "  'CADD',\n",
       "  'AF_TGP',\n",
       "  'GNOMADAF_popmax',\n",
       "  'REVEL_score'],\n",
       " ['Consequence',\n",
       "  'REVEL_score_NAN',\n",
       "  'ORIGIN_4',\n",
       "  'ORIGIN_5',\n",
       "  'CADD',\n",
       "  'AF_TGP',\n",
       "  'GNOMADAF_popmax',\n",
       "  'REVEL_score'],\n",
       " ['Consequence',\n",
       "  'REVEL_score_NAN',\n",
       "  'ORIGIN_4',\n",
       "  'ORIGIN_5',\n",
       "  'CADD',\n",
       "  'AF_TGP',\n",
       "  'GNOMADAF_popmax',\n",
       "  'MaxEntScan_diff',\n",
       "  'REVEL_score'],\n",
       " ['Consequence',\n",
       "  'BIOTYPE',\n",
       "  'REVEL_score_NAN',\n",
       "  'ORIGIN_4',\n",
       "  'ORIGIN_5',\n",
       "  'CADD',\n",
       "  'AF_TGP',\n",
       "  'GNOMADAF_popmax',\n",
       "  'MaxEntScan_diff',\n",
       "  'REVEL_score'],\n",
       " ['Consequence',\n",
       "  'BIOTYPE',\n",
       "  'REVEL_score_NAN',\n",
       "  'ORIGIN_4',\n",
       "  'ORIGIN_5',\n",
       "  'CADD',\n",
       "  'AF_TGP',\n",
       "  'GNOMADAF_popmax',\n",
       "  'MaxEntScan_diff',\n",
       "  'REVEL_score',\n",
       "  'SpliceAI_pred_DS_DL'],\n",
       " ['Consequence',\n",
       "  'IMPACT',\n",
       "  'BIOTYPE',\n",
       "  'REVEL_score_NAN',\n",
       "  'ORIGIN_1',\n",
       "  'ORIGIN_4',\n",
       "  'ORIGIN_5',\n",
       "  'CADD',\n",
       "  'AF_TGP',\n",
       "  'Frq',\n",
       "  'GNOMADAF_popmax',\n",
       "  'Hom',\n",
       "  'SWEGENAF',\n",
       "  'MES-SWA_acceptor_diff',\n",
       "  'MES-SWA_donor_alt',\n",
       "  'MES-SWA_donor_diff',\n",
       "  'MaxEntScan_diff',\n",
       "  'REVEL_score',\n",
       "  'phastCons100way_vertebrate',\n",
       "  'SpliceAI_pred_DS_AG',\n",
       "  'SpliceAI_pred_DS_AL',\n",
       "  'SpliceAI_pred_DS_DL']]"
      ]
     },
     "execution_count": 114,
     "metadata": {},
     "output_type": "execute_result"
    }
   ],
   "source": [
    "### get the feature subsets 7-11 with higher accuracy, names and indice\n",
    "subsets = [7,8,9,10,11,22]\n",
    "feature_selection= [[] for i in range(6)]     # initialize a nested list  https://www.freecodecamp.org/news/list-within-a-list-in-python-initialize-a-nested-list/\n",
    "a=0\n",
    "\n",
    "for i in subsets:\n",
    "    \n",
    "    for j in (sfs1.subsets_[i]['feature_idx']):\n",
    "        feature_selection[a].append(dic_f[j])\n",
    "\n",
    "    a+=1\n",
    "\n",
    "feature_selection\n",
    "\n"
   ]
  },
  {
   "attachments": {},
   "cell_type": "markdown",
   "metadata": {},
   "source": [
    "Using the Selected Feature Subset For Making New Predictions"
   ]
  },
  {
   "cell_type": "code",
   "execution_count": 107,
   "metadata": {},
   "outputs": [
    {
     "name": "stdout",
     "output_type": "stream",
     "text": [
      "Test set accuracy: 97.61 %\n"
     ]
    }
   ],
   "source": [
    "feature_select_idx = sfs1.subsets_ [7]['feature_idx']\n",
    "\n",
    "X_train_sfs = X_train[:, feature_select_idx]\n",
    "X_test_sfs = X_test[:, feature_select_idx]\n",
    "# X_train_sfs.shape\n",
    "\n",
    "logreg_sfs = LogisticRegression(max_iter=1000).fit(X_train_sfs, y_train)   # max iteration to finish converage: max_iter=1000 , C =1 \n",
    "\n",
    "y_pred = logreg_sfs.predict(X_test_sfs)\n",
    "\n",
    "# Compute the accuracy of the prediction\n",
    "acc = float((y_test == y_pred).sum()) / y_pred.shape[0]\n",
    "print('Test set accuracy: %.2f %%' % (acc * 100))"
   ]
  },
  {
   "cell_type": "code",
   "execution_count": null,
   "metadata": {},
   "outputs": [],
   "source": []
  },
  {
   "cell_type": "markdown",
   "metadata": {},
   "source": []
  },
  {
   "cell_type": "markdown",
   "metadata": {},
   "source": []
  },
  {
   "cell_type": "markdown",
   "metadata": {},
   "source": []
  },
  {
   "attachments": {},
   "cell_type": "markdown",
   "metadata": {},
   "source": [
    "3.2 Stratified k-Fold Cross-Validation"
   ]
  },
  {
   "cell_type": "code",
   "execution_count": null,
   "metadata": {},
   "outputs": [],
   "source": [
    "import numpy as np\n",
    "from sklearn.model_selection import StratifiedKFold\n",
    "\n",
    "kfold = StratifiedKFold(n_splits=10).split(X_train, y_train)\n",
    "\n",
    "scores = []\n",
    "for k, (train, test) in enumerate(kfold):\n",
    "    logreg = LogisticRegression(max_iter=1000).fit(X_train, y_train)\n",
    "    score = logreg.score(X_train[test], y_train[test]) \n",
    "    scores.append(score)\n",
    "    \n",
    "    # print(f'Fold: {k+1:02d}, ' \n",
    "    # f'Acc.: {score:.3f}')\n"
   ]
  },
  {
   "cell_type": "code",
   "execution_count": 91,
   "metadata": {},
   "outputs": [
    {
     "name": "stdout",
     "output_type": "stream",
     "text": [
      "Fold scores: [0.97678390908774, 0.978910307804929, 0.9797120646982954, 0.9773067940181964, 0.9791891797678391, 0.9790497437863841, 0.9777251019625615, 0.9772370760274689, 0.9788049919821515, 0.9805131422993795]\n",
      "\n",
      "CV accuracy: 0.979 +/- 0.001\n"
     ]
    }
   ],
   "source": [
    "print(f'Fold scores: {scores}\\n')\n",
    "print(f'CV accuracy: {np.mean(scores):.3f} '\n",
    "f'+/- {np.std(scores):.3f}')"
   ]
  },
  {
   "cell_type": "code",
   "execution_count": null,
   "metadata": {},
   "outputs": [],
   "source": []
  },
  {
   "attachments": {},
   "cell_type": "markdown",
   "metadata": {},
   "source": [
    "3.3 extract test data with prob of pathogenic\n",
    "for distribution plot by R"
   ]
  },
  {
   "cell_type": "code",
   "execution_count": 31,
   "metadata": {},
   "outputs": [
    {
     "data": {
      "text/plain": [
       "array([0.97827072, 0.97619797, 0.99981395, ..., 0.99151317, 0.89716727,\n",
       "       0.00253891])"
      ]
     },
     "execution_count": 31,
     "metadata": {},
     "output_type": "execute_result"
    }
   ],
   "source": [
    "prob = logreg.predict_proba(X_test)    # 1st column: class 0;  2nd column: class 1\n",
    "# prob [0:3,:]\n",
    "prob [:,1]     # the 2nd column number represent the pathogenic class prob"
   ]
  },
  {
   "cell_type": "code",
   "execution_count": 50,
   "metadata": {},
   "outputs": [],
   "source": [
    "# transfer array to dataframe\n",
    "logistic_prob = pd.DataFrame(data = [prob [:,1], y_test]).T\n",
    "logistic_prob.columns=['prob_logistic','CLNSIG']\n",
    "\n",
    "# logistic_prob.to_csv('/Users/nancy/Desktop/RS_projects/data/03_ML/01_feature/01_logistic_prob.csv',index=False)"
   ]
  },
  {
   "cell_type": "markdown",
   "metadata": {},
   "source": []
  },
  {
   "cell_type": "markdown",
   "metadata": {},
   "source": []
  },
  {
   "cell_type": "markdown",
   "metadata": {},
   "source": []
  },
  {
   "attachments": {},
   "cell_type": "markdown",
   "metadata": {},
   "source": [
    "#### 4. Linear SVM\n",
    "more than 1min"
   ]
  },
  {
   "cell_type": "code",
   "execution_count": null,
   "metadata": {},
   "outputs": [],
   "source": [
    "from sklearn.svm import LinearSVC\n",
    "linear_svm = LinearSVC(max_iter=1000).fit(X_train, y_train)\n",
    "print(\"Training set score: {:.3f}\".format(linear_svm.score(X_train, y_train))) \n",
    "print(\"Test set score: {:.3f}\".format(linear_svm.score(X_test, y_test)))"
   ]
  },
  {
   "cell_type": "markdown",
   "metadata": {},
   "source": []
  },
  {
   "attachments": {},
   "cell_type": "markdown",
   "metadata": {},
   "source": [
    "#### 5.decision tree"
   ]
  },
  {
   "cell_type": "code",
   "execution_count": 19,
   "metadata": {},
   "outputs": [
    {
     "name": "stdout",
     "output_type": "stream",
     "text": [
      "Accuracy on training set: 1.000\n",
      "Accuracy on test set: 0.979\n"
     ]
    }
   ],
   "source": [
    "from sklearn.tree import DecisionTreeClassifier\n",
    "tree = DecisionTreeClassifier(random_state=0)\n",
    "tree.fit(X_train, y_train)\n",
    "print(\"Accuracy on training set: {:.3f}\".format(tree.score(X_train, y_train))) \n",
    "print(\"Accuracy on test set: {:.3f}\".format(tree.score(X_test, y_test)))\n"
   ]
  },
  {
   "cell_type": "code",
   "execution_count": 55,
   "metadata": {},
   "outputs": [
    {
     "data": {
      "text/plain": [
       "['decision_featsV1_model.sav']"
      ]
     },
     "execution_count": 55,
     "metadata": {},
     "output_type": "execute_result"
    }
   ],
   "source": [
    "## save model\n",
    "\n",
    "joblib.dump(tree,'decision_featsV1_model.sav')"
   ]
  },
  {
   "cell_type": "code",
   "execution_count": 20,
   "metadata": {},
   "outputs": [],
   "source": [
    "## for ROC\n",
    "prob3 = tree.predict_proba(X_test)\n",
    "prob3 = prob3[:,1]\n",
    "fprDt, tprDt, thresholdsDt = roc_curve(y_test, prob3)"
   ]
  },
  {
   "cell_type": "code",
   "execution_count": 46,
   "metadata": {},
   "outputs": [
    {
     "name": "stdout",
     "output_type": "stream",
     "text": [
      "Accuracy on training set: 0.984\n",
      "Accuracy on test set: 0.981\n"
     ]
    }
   ],
   "source": [
    "from sklearn.tree import DecisionTreeClassifier\n",
    "\n",
    "tree = DecisionTreeClassifier(max_depth=6, random_state=0)  # stop building the tree after a certain depth\n",
    "tree.fit(X_train, y_train)\n",
    "print(\"Accuracy on training set: {:.3f}\".format(tree.score(X_train, y_train))) \n",
    "print(\"Accuracy on test set: {:.3f}\".format(tree.score(X_test, y_test)))"
   ]
  },
  {
   "cell_type": "code",
   "execution_count": null,
   "metadata": {},
   "outputs": [],
   "source": [
    "data.columns"
   ]
  },
  {
   "cell_type": "code",
   "execution_count": 164,
   "metadata": {},
   "outputs": [
    {
     "name": "stdout",
     "output_type": "stream",
     "text": [
      "Feature importances:\n",
      "[4.51899500e-02 2.23794343e-04 0.00000000e+00 0.00000000e+00\n",
      " 0.00000000e+00 8.96619007e-04 0.00000000e+00 0.00000000e+00\n",
      " 0.00000000e+00 0.00000000e+00 0.00000000e+00 0.00000000e+00\n",
      " 1.33564739e-03 0.00000000e+00 1.81993703e-03 2.55176197e-03\n",
      " 8.75194382e-01 5.15295388e-04 6.89105324e-03 5.52336658e-02\n",
      " 2.46169980e-05 8.92342274e-05 2.80715698e-05 0.00000000e+00\n",
      " 2.38088882e-05 2.43539122e-04 1.35644877e-05 0.00000000e+00\n",
      " 0.00000000e+00 2.82118762e-05 7.55913819e-03 2.85339849e-04\n",
      " 0.00000000e+00 0.00000000e+00 3.18665198e-04 7.78887573e-04\n",
      " 7.54815396e-04 0.00000000e+00 0.00000000e+00]\n"
     ]
    }
   ],
   "source": [
    "# feature importance in tree\n",
    "print(\"Feature importances:\\n{}\".format(tree.feature_importances_))\n"
   ]
  },
  {
   "cell_type": "code",
   "execution_count": 166,
   "metadata": {},
   "outputs": [
    {
     "data": {
      "image/png": "[encoded data removed]",
      "text/plain": [
       "<Figure size 640x480 with 1 Axes>"
      ]
     },
     "metadata": {},
     "output_type": "display_data"
    }
   ],
   "source": [
    "# plot :feature importance in tree\n",
    "\n",
    "def plot_feature_importances_cancer(model): \n",
    "    n_features = data.shape[1] - 1\n",
    "    plt.barh(range(n_features), model.feature_importances_, align='center')\n",
    "    plt.yticks(np.arange(n_features), data.columns[1:])\n",
    "    plt.xlabel(\"Feature importance\")\n",
    "    plt.ylabel(\"Feature\")\n",
    "plot_feature_importances_cancer(tree)"
   ]
  },
  {
   "cell_type": "markdown",
   "metadata": {},
   "source": []
  },
  {
   "attachments": {},
   "cell_type": "markdown",
   "metadata": {},
   "source": [
    "#### 6. random forest\n",
    "also for select feature importance\n",
    "3mins"
   ]
  },
  {
   "cell_type": "code",
   "execution_count": 21,
   "metadata": {},
   "outputs": [
    {
     "name": "stdout",
     "output_type": "stream",
     "text": [
      "Accuracy on training set: 1.000000\n",
      "Accuracy on test set: 0.987339\n"
     ]
    }
   ],
   "source": [
    "from sklearn.ensemble import RandomForestClassifier\n",
    "\n",
    "forest = RandomForestClassifier(n_estimators=600,random_state=1) \n",
    "forest.fit(X_train, y_train)\n",
    "print(\"Accuracy on training set: {:f}\".format(forest.score(X_train, y_train))) \n",
    "print(\"Accuracy on test set: {:f}\".format(forest.score(X_test, y_test)))"
   ]
  },
  {
   "cell_type": "code",
   "execution_count": 47,
   "metadata": {},
   "outputs": [
    {
     "name": "stdout",
     "output_type": "stream",
     "text": [
      "Fold scores: [1.0, 1.0, 1.0, 1.0, 1.0, 1.0, 1.0, 1.0, 1.0, 1.0]\n",
      "\n",
      "CV accuracy: 1.000 +/- 0.000\n"
     ]
    }
   ],
   "source": [
    "import numpy as np\n",
    "from sklearn.model_selection import StratifiedKFold\n",
    "\n",
    "kfold = StratifiedKFold(n_splits=10).split(X_train, y_train)\n",
    "\n",
    "scores = []\n",
    "for k, (train, test) in enumerate(kfold):\n",
    "    forestK = RandomForestClassifier(n_estimators=600,random_state=1).fit(X_train, y_train)\n",
    "    score = forestK.score(X_train[test], y_train[test]) \n",
    "    scores.append(score)\n",
    "    \n",
    "    # print(f'Fold: {k+1:02d}, ' \n",
    "    # f'Acc.: {score:.3f}')\n",
    "\n",
    "print(f'Fold scores: {scores}\\n')\n",
    "print(f'CV accuracy: {np.mean(scores):.3f} '\n",
    "f'+/- {np.std(scores):.3f}')"
   ]
  },
  {
   "cell_type": "code",
   "execution_count": 22,
   "metadata": {},
   "outputs": [],
   "source": [
    "## for ROC curve\n",
    "prob4 = forest.predict_proba(X_test)\n",
    "prob4 = prob4[:,1]\n",
    "fprRf, tprRf, thresholdsRf = roc_curve(y_test, prob4)"
   ]
  },
  {
   "attachments": {},
   "cell_type": "markdown",
   "metadata": {},
   "source": [
    " extract test data with prob of pathogenic\n",
    "for distribution plot by R"
   ]
  },
  {
   "cell_type": "code",
   "execution_count": 73,
   "metadata": {},
   "outputs": [],
   "source": [
    "## get prob\n",
    "\n",
    "prob_f = forest.predict_proba(X_test)    # 1st column: class 0;  2nd column: class 1\n",
    "# prob [0:3,:]\n",
    "prob_f[:,1]     # the 2nd column number represent the pathogenic class prob\n",
    "\n",
    "# transfer array to dataframe\n",
    "all_prob = pd.DataFrame(data = [prob [:,1], prob_f [:,1]]).T\n",
    "all_prob.columns=['prob_logistic','prob_randomforest']\n",
    "\n",
    "# get the class label back\n",
    "Clnsig = pd.DataFrame(y_test, columns=['CLNSIG'])\n",
    "map_clnsig={1:'pathogenic', 0:'benign'}\n",
    "Clnsig['CLNSIG']=Clnsig['CLNSIG'].map(lambda s: map_clnsig.get(s) if s in map_clnsig else s)\n",
    "# Clnsig[\"CLNSIG\"].unique()\n",
    "\n",
    "#  merge with prob\n",
    "model_prob = pd.concat([Clnsig,all_prob],axis=1)\n",
    "model_prob\n",
    "\n",
    "model_prob.to_csv('/Users/nancy/Desktop/RS_projects/data/03_ML/01_feature/01_model_prob.csv',index=False)"
   ]
  },
  {
   "attachments": {},
   "cell_type": "markdown",
   "metadata": {},
   "source": [
    "feature importance in tree:"
   ]
  },
  {
   "cell_type": "code",
   "execution_count": 50,
   "metadata": {},
   "outputs": [
    {
     "name": "stdout",
     "output_type": "stream",
     "text": [
      " 1) CADD                           0.245681\n",
      " 2) IMPACT                         0.216953\n",
      " 3) Consequence                    0.201149\n",
      " 4) GNOMADAF_popmax                0.061220\n",
      " 5) Frq                            0.046685\n",
      " 6) phastCons100way_vertebrate     0.024255\n",
      " 7) REVEL_score                    0.022058\n",
      " 8) SPIDEX                         0.020055\n",
      " 9) GERP++_RS                      0.018628\n",
      "10) phyloP100way_vertebrate        0.015177\n",
      "11) AF_TGP                         0.015115\n",
      "12) SPIDEX_NAN                     0.011426\n",
      "13) Hom                            0.009882\n",
      "14) MaxEntScan_diff                0.009563\n",
      "15) SWEGENAF                       0.007765\n",
      "16) MaxEntScan_alt                 0.005972\n",
      "17) ORIGIN_4                       0.005897\n",
      "18) PolyPhen                       0.005259\n",
      "19) SIFT                           0.005071\n",
      "20) MES-SWA_donor_diff             0.005067\n",
      "21) MES-SWA_donor_alt              0.004894\n",
      "22) SpliceAI_pred_DS_DL            0.004813\n",
      "23) MES-SWA_acceptor_diff          0.004642\n",
      "24) MES-SWA_acceptor_alt           0.004585\n",
      "25) LoFtool                        0.004558\n",
      "26) SpliceAI_pred_DS_AL            0.002961\n",
      "27) pLI_gene_value                 0.002743\n",
      "28) SIFT_NAN                       0.002298\n",
      "29) PolyPhen_NAN                   0.002284\n",
      "30) REVEL_score_NAN                0.002171\n",
      "31) SpliceAI_pred_DS_DG            0.002032\n",
      "32) ORIGIN_5                       0.001985\n",
      "33) SpliceAI_pred_DS_AG            0.001872\n",
      "34) SpliceAI_pred_DS_AG_NAN        0.001776\n",
      "35) ORIGIN_3                       0.001361\n",
      "36) ORIGIN_2                       0.001173\n",
      "37) BIOTYPE                        0.000822\n",
      "38) ORIGIN_1                       0.000126\n",
      "39) ORIGIN_0                       0.000027\n"
     ]
    }
   ],
   "source": [
    "# #  \n",
    "##  aggregating the feature importances over the trees in the forest. more reliable than single tree\n",
    "\n",
    "feat_labels = data.columns[1:]     \n",
    "importances = forest.feature_importances_\n",
    "\n",
    "indices = np.argsort(importances)[::-1] \n",
    "for f in range(X_train.shape[1]):\n",
    "    print(\"%2d) %-*s %f\" % (f + 1, 30,\n",
    "                             feat_labels[indices[f]],importances[indices[f]]))       ## rank feature importance"
   ]
  },
  {
   "cell_type": "code",
   "execution_count": 57,
   "metadata": {},
   "outputs": [
    {
     "data": {
      "image/png": "[encoded data removed]",
      "text/plain": [
       "<Figure size 640x480 with 1 Axes>"
      ]
     },
     "metadata": {},
     "output_type": "display_data"
    }
   ],
   "source": [
    "# plot_feature_importances\n",
    "\n",
    "plt.title('Feature importance') \n",
    "plt.bar(range(X_train.shape[1]),\n",
    "        importances[indices], \n",
    "        align='center')\n",
    "plt.xticks(range(X_train.shape[1]),\n",
    "            feat_labels[indices], rotation=90)\n",
    "plt.xlim([-1, X_train.shape[1]]) \n",
    "plt.tight_layout()\n",
    "plt.show()"
   ]
  },
  {
   "attachments": {},
   "cell_type": "markdown",
   "metadata": {},
   "source": []
  },
  {
   "cell_type": "markdown",
   "metadata": {},
   "source": []
  },
  {
   "cell_type": "markdown",
   "metadata": {},
   "source": []
  },
  {
   "cell_type": "markdown",
   "metadata": {},
   "source": []
  },
  {
   "cell_type": "markdown",
   "metadata": {},
   "source": []
  },
  {
   "attachments": {},
   "cell_type": "markdown",
   "metadata": {},
   "source": [
    "## plot ROC curve together, 4 models\n",
    "KNN, logitic regression, decision tree, radom forest\n",
    "(linear SVM , linear regression don't have proba)"
   ]
  },
  {
   "cell_type": "code",
   "execution_count": 23,
   "metadata": {},
   "outputs": [],
   "source": [
    "import sklearn.metrics as metrics\n",
    "\n",
    "roc_Kn = metrics.auc(fprKn,tprKn)\n",
    "roc_Lg = metrics.auc(fprLg,tprLg)\n",
    "roc_Dt = metrics.auc(fprDt,tprDt)\n",
    "roc_Rf = metrics.auc(fprRf,tprRf)"
   ]
  },
  {
   "cell_type": "code",
   "execution_count": 40,
   "metadata": {},
   "outputs": [
    {
     "data": {
      "image/png": "[encoded data removed]",
      "text/plain": [
       "<Figure size 640x480 with 1 Axes>"
      ]
     },
     "metadata": {},
     "output_type": "display_data"
    }
   ],
   "source": [
    "plt.plot(fprKn, tprKn, label='k-Nearest Neighbors'+ ' auc = ' + str(\"%.6f\" % roc_Kn),linewidth=2)\n",
    "plt.plot(fprLg, tprLg, label='Logistic Regression'+ ' auc = ' + str(\"%.6f\" % roc_Lg),linewidth=2)\n",
    "plt.plot(fprDt, tprDt, label='Decision Tree' + ' auc = ' + str(\"%.6f\" % roc_Dt), linewidth=2)\n",
    "plt.plot(fprRf, tprRf, label='Random Forest' + ' auc = ' + str(\"%.6f\" % roc_Rf), linewidth=2)\n",
    "\n",
    "# axis labels\n",
    "plt.xlabel('False Positive Rate')\n",
    "plt.ylabel('True Positive Rate')\n",
    "# show the legend\n",
    "plt.legend()\n",
    "\n",
    "# show the plot\n",
    "plt.show()"
   ]
  },
  {
   "cell_type": "markdown",
   "metadata": {},
   "source": []
  },
  {
   "cell_type": "markdown",
   "metadata": {},
   "source": []
  }
 ],
 "metadata": {
  "kernelspec": {
   "display_name": "bioinfo",
   "language": "python",
   "name": "python3"
  },
  "language_info": {
   "codemirror_mode": {
    "name": "ipython",
    "version": 3
   },
   "file_extension": ".py",
   "mimetype": "text/x-python",
   "name": "python",
   "nbconvert_exporter": "python",
   "pygments_lexer": "ipython3",
   "version": "3.10.8 (main, Nov 24 2022, 08:08:27) [Clang 14.0.6 ]"
  },
  "orig_nbformat": 4,
  "vscode": {
   "interpreter": {
    "hash": "c02203d1d64a20e095821dadd6770e07e454ea747f2e6a086ab8a4b96e3b68a3"
   }
  }
 },
 "nbformat": 4,
 "nbformat_minor": 2
}
